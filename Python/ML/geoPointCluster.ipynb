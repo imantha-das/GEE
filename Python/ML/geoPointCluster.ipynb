{
 "metadata": {
  "language_info": {
   "codemirror_mode": {
    "name": "ipython",
    "version": 3
   },
   "file_extension": ".py",
   "mimetype": "text/x-python",
   "name": "python",
   "nbconvert_exporter": "python",
   "pygments_lexer": "ipython3",
   "version": "3.6.10-final"
  },
  "orig_nbformat": 2,
  "kernelspec": {
   "name": "python361064biteeenvconda2649a91516da4ec581ffd0b4fbbd3938",
   "display_name": "Python 3.6.10 64-bit ('eeEnv': conda)",
   "language": "python"
  }
 },
 "nbformat": 4,
 "nbformat_minor": 2,
 "cells": [
  {
   "source": [
    "## Imports"
   ],
   "cell_type": "markdown",
   "metadata": {}
  },
  {
   "cell_type": "code",
   "execution_count": 13,
   "metadata": {},
   "outputs": [],
   "source": [
    "import numpy as np \n",
    "import pandas as pd \n",
    "import plotly.express as px \n",
    "import plotly.graph_objs as go \n",
    "import sqlite3 \n",
    "\n",
    "from sklearn.cluster import KMeans,AgglomerativeClustering\n",
    "from sklearn.preprocessing import StandardScaler\n",
    "\n"
   ]
  },
  {
   "source": [
    "## Load Data"
   ],
   "cell_type": "markdown",
   "metadata": {}
  },
  {
   "cell_type": "code",
   "execution_count": 2,
   "metadata": {},
   "outputs": [],
   "source": [
    "def connect2db (path:str, tb:str):\n",
    "    conn = sqlite3.connect(path)\n",
    "    cur = conn.cursor()\n",
    "    q = \"SELECT * FROM\" + \" \" + tb \n",
    "    df = pd.read_sql(sql = q, con = conn)\n",
    "    conn.close()\n",
    "    return df"
   ]
  },
  {
   "cell_type": "code",
   "execution_count": 6,
   "metadata": {},
   "outputs": [],
   "source": [
    "# Load points and metrics tables\n",
    "points = connect2db(path = \"D:/GEE_Project/Databases/database.db\", tb = \"points\")\n",
    "metrics = connect2db(path = \"D:/GEE_Project/Databases/polyfitsMets.db\", tb = \"metrics\")\n",
    "\n",
    "# Join tables\n",
    "ptsMet = pd.merge(points, metrics, on = \"id\")\n"
   ]
  },
  {
   "source": [
    "## Explore CC2011 dataset"
   ],
   "cell_type": "markdown",
   "metadata": {}
  },
  {
   "cell_type": "code",
   "execution_count": 30,
   "metadata": {},
   "outputs": [
    {
     "output_type": "execute_result",
     "data": {
      "text/plain": [
       "                                           id      lat      lon  \\\n",
       "1189  308308553992445489352924561631568000084 -39.4557 -71.3664   \n",
       "1198  314363253535504424972969257561612139910 -39.8304 -71.1597   \n",
       "1207  222941773661361278045265061893625964793 -41.3661 -70.5747   \n",
       "1216  271831421774115499318642335443404264562 -40.6426 -71.5689   \n",
       "1225  307809111278932268455037052411994127818 -40.9754 -71.8836   \n",
       "\n",
       "                label  distance  heading eruption  elevation      slope  \\\n",
       "1189  compo=1m,LS=LE7     141.3     27.1   CC2011       1180   9.030243   \n",
       "1198  compo=1m,LS=LE7     117.3     44.2   CC2011        909  13.458920   \n",
       "1207  compo=1m,LS=LE7     155.8    124.2   CC2011       1245   5.654180   \n",
       "1216  compo=1m,LS=LE7      46.7     97.4   CC2011       1743  29.023190   \n",
       "1225  compo=1m,LS=LE7      47.1    155.4   CC2011       1291  38.252384   \n",
       "\n",
       "          aspect  ...  delayV      preconT    preconTS   preconV  improvDeclT  \\\n",
       "1189  307.672363  ...     NaN          NaN        None       NaN          NaN   \n",
       "1198  298.260681  ...     NaN   739.829503  2013-06-12 -0.512793  1474.071031   \n",
       "1207  240.625854  ...     NaN   498.917616  2012-10-14 -0.488236          NaN   \n",
       "1216  297.827454  ...     NaN  1552.537982  2015-09-03 -5.539992          NaN   \n",
       "1225  218.718491  ...     NaN          NaN        None       NaN          NaN   \n",
       "\n",
       "     improvDeclTS  improvDeclV      budgetT    budgetTS  budgetV  \n",
       "1189         None          NaN          NaN        None      NaN  \n",
       "1198   2015-06-17    -0.052934          NaN        None      NaN  \n",
       "1207         None          NaN  1147.664082  2014-07-25      0.0  \n",
       "1216         None          NaN          NaN        None      NaN  \n",
       "1225         None          NaN          NaN        None      NaN  \n",
       "\n",
       "[5 rows x 35 columns]"
      ],
      "text/html": "<div>\n<style scoped>\n    .dataframe tbody tr th:only-of-type {\n        vertical-align: middle;\n    }\n\n    .dataframe tbody tr th {\n        vertical-align: top;\n    }\n\n    .dataframe thead th {\n        text-align: right;\n    }\n</style>\n<table border=\"1\" class=\"dataframe\">\n  <thead>\n    <tr style=\"text-align: right;\">\n      <th></th>\n      <th>id</th>\n      <th>lat</th>\n      <th>lon</th>\n      <th>label</th>\n      <th>distance</th>\n      <th>heading</th>\n      <th>eruption</th>\n      <th>elevation</th>\n      <th>slope</th>\n      <th>aspect</th>\n      <th>...</th>\n      <th>delayV</th>\n      <th>preconT</th>\n      <th>preconTS</th>\n      <th>preconV</th>\n      <th>improvDeclT</th>\n      <th>improvDeclTS</th>\n      <th>improvDeclV</th>\n      <th>budgetT</th>\n      <th>budgetTS</th>\n      <th>budgetV</th>\n    </tr>\n  </thead>\n  <tbody>\n    <tr>\n      <th>1189</th>\n      <td>308308553992445489352924561631568000084</td>\n      <td>-39.4557</td>\n      <td>-71.3664</td>\n      <td>compo=1m,LS=LE7</td>\n      <td>141.3</td>\n      <td>27.1</td>\n      <td>CC2011</td>\n      <td>1180</td>\n      <td>9.030243</td>\n      <td>307.672363</td>\n      <td>...</td>\n      <td>NaN</td>\n      <td>NaN</td>\n      <td>None</td>\n      <td>NaN</td>\n      <td>NaN</td>\n      <td>None</td>\n      <td>NaN</td>\n      <td>NaN</td>\n      <td>None</td>\n      <td>NaN</td>\n    </tr>\n    <tr>\n      <th>1198</th>\n      <td>314363253535504424972969257561612139910</td>\n      <td>-39.8304</td>\n      <td>-71.1597</td>\n      <td>compo=1m,LS=LE7</td>\n      <td>117.3</td>\n      <td>44.2</td>\n      <td>CC2011</td>\n      <td>909</td>\n      <td>13.458920</td>\n      <td>298.260681</td>\n      <td>...</td>\n      <td>NaN</td>\n      <td>739.829503</td>\n      <td>2013-06-12</td>\n      <td>-0.512793</td>\n      <td>1474.071031</td>\n      <td>2015-06-17</td>\n      <td>-0.052934</td>\n      <td>NaN</td>\n      <td>None</td>\n      <td>NaN</td>\n    </tr>\n    <tr>\n      <th>1207</th>\n      <td>222941773661361278045265061893625964793</td>\n      <td>-41.3661</td>\n      <td>-70.5747</td>\n      <td>compo=1m,LS=LE7</td>\n      <td>155.8</td>\n      <td>124.2</td>\n      <td>CC2011</td>\n      <td>1245</td>\n      <td>5.654180</td>\n      <td>240.625854</td>\n      <td>...</td>\n      <td>NaN</td>\n      <td>498.917616</td>\n      <td>2012-10-14</td>\n      <td>-0.488236</td>\n      <td>NaN</td>\n      <td>None</td>\n      <td>NaN</td>\n      <td>1147.664082</td>\n      <td>2014-07-25</td>\n      <td>0.0</td>\n    </tr>\n    <tr>\n      <th>1216</th>\n      <td>271831421774115499318642335443404264562</td>\n      <td>-40.6426</td>\n      <td>-71.5689</td>\n      <td>compo=1m,LS=LE7</td>\n      <td>46.7</td>\n      <td>97.4</td>\n      <td>CC2011</td>\n      <td>1743</td>\n      <td>29.023190</td>\n      <td>297.827454</td>\n      <td>...</td>\n      <td>NaN</td>\n      <td>1552.537982</td>\n      <td>2015-09-03</td>\n      <td>-5.539992</td>\n      <td>NaN</td>\n      <td>None</td>\n      <td>NaN</td>\n      <td>NaN</td>\n      <td>None</td>\n      <td>NaN</td>\n    </tr>\n    <tr>\n      <th>1225</th>\n      <td>307809111278932268455037052411994127818</td>\n      <td>-40.9754</td>\n      <td>-71.8836</td>\n      <td>compo=1m,LS=LE7</td>\n      <td>47.1</td>\n      <td>155.4</td>\n      <td>CC2011</td>\n      <td>1291</td>\n      <td>38.252384</td>\n      <td>218.718491</td>\n      <td>...</td>\n      <td>NaN</td>\n      <td>NaN</td>\n      <td>None</td>\n      <td>NaN</td>\n      <td>NaN</td>\n      <td>None</td>\n      <td>NaN</td>\n      <td>NaN</td>\n      <td>None</td>\n      <td>NaN</td>\n    </tr>\n  </tbody>\n</table>\n<p>5 rows × 35 columns</p>\n</div>"
     },
     "metadata": {},
     "execution_count": 30
    }
   ],
   "source": [
    "# Filter values for cc2011 eruption\n",
    "cc = ptsMet.query(\"eruption == 'CC2011' & dataset == 'LSSR.NDVI.CDI'\")\n",
    "cc.head()"
   ]
  },
  {
   "source": [
    "## KMeans Clustering"
   ],
   "cell_type": "markdown",
   "metadata": {}
  },
  {
   "cell_type": "code",
   "execution_count": 34,
   "metadata": {},
   "outputs": [],
   "source": [
    "def clusterFeat(df:pd.DataFrame,feat:list,nClust:int):\n",
    "    # Filter features\n",
    "    X = df[feat]\n",
    "    # Normalise Data\n",
    "    X = StandardScaler().fit(X).transform(X.astype(float))\n",
    "\n",
    "    model = KMeans(nClust)\n",
    "    model.fit(X)\n",
    "    return model\n"
   ]
  },
  {
   "cell_type": "code",
   "execution_count": 45,
   "metadata": {},
   "outputs": [
    {
     "output_type": "display_data",
     "data": {
      "application/vnd.plotly.v1+json": {
       "config": {
        "plotlyServerURL": "https://plotly.com"
       },
       "data": [
        {
         "line": {
          "color": "slategray"
         },
         "mode": "lines+markers",
         "type": "scatter",
         "x": [
          1,
          2,
          3,
          4,
          5,
          6,
          7,
          8,
          9
         ],
         "y": [
          5999.999999999996,
          4700.572160898325,
          3953.596796164971,
          3388.278478696656,
          2922.653162349227,
          2600.4798520541517,
          2406.3402626721386,
          2234.2995145786463,
          2109.1365718679754,
          2004.6702951829589,
          1917.4016017762217,
          1835.6653319867216,
          1753.6084079227435,
          1696.8796829548553,
          1653.1197773956562,
          1600.5250572008185,
          1557.2039184813548,
          1514.454655199052,
          1462.4578496987574,
          1433.9289699399894
         ]
        }
       ],
       "layout": {
        "template": {
         "data": {
          "bar": [
           {
            "error_x": {
             "color": "#2a3f5f"
            },
            "error_y": {
             "color": "#2a3f5f"
            },
            "marker": {
             "line": {
              "color": "white",
              "width": 0.5
             }
            },
            "type": "bar"
           }
          ],
          "barpolar": [
           {
            "marker": {
             "line": {
              "color": "white",
              "width": 0.5
             }
            },
            "type": "barpolar"
           }
          ],
          "carpet": [
           {
            "aaxis": {
             "endlinecolor": "#2a3f5f",
             "gridcolor": "#C8D4E3",
             "linecolor": "#C8D4E3",
             "minorgridcolor": "#C8D4E3",
             "startlinecolor": "#2a3f5f"
            },
            "baxis": {
             "endlinecolor": "#2a3f5f",
             "gridcolor": "#C8D4E3",
             "linecolor": "#C8D4E3",
             "minorgridcolor": "#C8D4E3",
             "startlinecolor": "#2a3f5f"
            },
            "type": "carpet"
           }
          ],
          "choropleth": [
           {
            "colorbar": {
             "outlinewidth": 0,
             "ticks": ""
            },
            "type": "choropleth"
           }
          ],
          "contour": [
           {
            "colorbar": {
             "outlinewidth": 0,
             "ticks": ""
            },
            "colorscale": [
             [
              0,
              "#0d0887"
             ],
             [
              0.1111111111111111,
              "#46039f"
             ],
             [
              0.2222222222222222,
              "#7201a8"
             ],
             [
              0.3333333333333333,
              "#9c179e"
             ],
             [
              0.4444444444444444,
              "#bd3786"
             ],
             [
              0.5555555555555556,
              "#d8576b"
             ],
             [
              0.6666666666666666,
              "#ed7953"
             ],
             [
              0.7777777777777778,
              "#fb9f3a"
             ],
             [
              0.8888888888888888,
              "#fdca26"
             ],
             [
              1,
              "#f0f921"
             ]
            ],
            "type": "contour"
           }
          ],
          "contourcarpet": [
           {
            "colorbar": {
             "outlinewidth": 0,
             "ticks": ""
            },
            "type": "contourcarpet"
           }
          ],
          "heatmap": [
           {
            "colorbar": {
             "outlinewidth": 0,
             "ticks": ""
            },
            "colorscale": [
             [
              0,
              "#0d0887"
             ],
             [
              0.1111111111111111,
              "#46039f"
             ],
             [
              0.2222222222222222,
              "#7201a8"
             ],
             [
              0.3333333333333333,
              "#9c179e"
             ],
             [
              0.4444444444444444,
              "#bd3786"
             ],
             [
              0.5555555555555556,
              "#d8576b"
             ],
             [
              0.6666666666666666,
              "#ed7953"
             ],
             [
              0.7777777777777778,
              "#fb9f3a"
             ],
             [
              0.8888888888888888,
              "#fdca26"
             ],
             [
              1,
              "#f0f921"
             ]
            ],
            "type": "heatmap"
           }
          ],
          "heatmapgl": [
           {
            "colorbar": {
             "outlinewidth": 0,
             "ticks": ""
            },
            "colorscale": [
             [
              0,
              "#0d0887"
             ],
             [
              0.1111111111111111,
              "#46039f"
             ],
             [
              0.2222222222222222,
              "#7201a8"
             ],
             [
              0.3333333333333333,
              "#9c179e"
             ],
             [
              0.4444444444444444,
              "#bd3786"
             ],
             [
              0.5555555555555556,
              "#d8576b"
             ],
             [
              0.6666666666666666,
              "#ed7953"
             ],
             [
              0.7777777777777778,
              "#fb9f3a"
             ],
             [
              0.8888888888888888,
              "#fdca26"
             ],
             [
              1,
              "#f0f921"
             ]
            ],
            "type": "heatmapgl"
           }
          ],
          "histogram": [
           {
            "marker": {
             "colorbar": {
              "outlinewidth": 0,
              "ticks": ""
             }
            },
            "type": "histogram"
           }
          ],
          "histogram2d": [
           {
            "colorbar": {
             "outlinewidth": 0,
             "ticks": ""
            },
            "colorscale": [
             [
              0,
              "#0d0887"
             ],
             [
              0.1111111111111111,
              "#46039f"
             ],
             [
              0.2222222222222222,
              "#7201a8"
             ],
             [
              0.3333333333333333,
              "#9c179e"
             ],
             [
              0.4444444444444444,
              "#bd3786"
             ],
             [
              0.5555555555555556,
              "#d8576b"
             ],
             [
              0.6666666666666666,
              "#ed7953"
             ],
             [
              0.7777777777777778,
              "#fb9f3a"
             ],
             [
              0.8888888888888888,
              "#fdca26"
             ],
             [
              1,
              "#f0f921"
             ]
            ],
            "type": "histogram2d"
           }
          ],
          "histogram2dcontour": [
           {
            "colorbar": {
             "outlinewidth": 0,
             "ticks": ""
            },
            "colorscale": [
             [
              0,
              "#0d0887"
             ],
             [
              0.1111111111111111,
              "#46039f"
             ],
             [
              0.2222222222222222,
              "#7201a8"
             ],
             [
              0.3333333333333333,
              "#9c179e"
             ],
             [
              0.4444444444444444,
              "#bd3786"
             ],
             [
              0.5555555555555556,
              "#d8576b"
             ],
             [
              0.6666666666666666,
              "#ed7953"
             ],
             [
              0.7777777777777778,
              "#fb9f3a"
             ],
             [
              0.8888888888888888,
              "#fdca26"
             ],
             [
              1,
              "#f0f921"
             ]
            ],
            "type": "histogram2dcontour"
           }
          ],
          "mesh3d": [
           {
            "colorbar": {
             "outlinewidth": 0,
             "ticks": ""
            },
            "type": "mesh3d"
           }
          ],
          "parcoords": [
           {
            "line": {
             "colorbar": {
              "outlinewidth": 0,
              "ticks": ""
             }
            },
            "type": "parcoords"
           }
          ],
          "pie": [
           {
            "automargin": true,
            "type": "pie"
           }
          ],
          "scatter": [
           {
            "marker": {
             "colorbar": {
              "outlinewidth": 0,
              "ticks": ""
             }
            },
            "type": "scatter"
           }
          ],
          "scatter3d": [
           {
            "line": {
             "colorbar": {
              "outlinewidth": 0,
              "ticks": ""
             }
            },
            "marker": {
             "colorbar": {
              "outlinewidth": 0,
              "ticks": ""
             }
            },
            "type": "scatter3d"
           }
          ],
          "scattercarpet": [
           {
            "marker": {
             "colorbar": {
              "outlinewidth": 0,
              "ticks": ""
             }
            },
            "type": "scattercarpet"
           }
          ],
          "scattergeo": [
           {
            "marker": {
             "colorbar": {
              "outlinewidth": 0,
              "ticks": ""
             }
            },
            "type": "scattergeo"
           }
          ],
          "scattergl": [
           {
            "marker": {
             "colorbar": {
              "outlinewidth": 0,
              "ticks": ""
             }
            },
            "type": "scattergl"
           }
          ],
          "scattermapbox": [
           {
            "marker": {
             "colorbar": {
              "outlinewidth": 0,
              "ticks": ""
             }
            },
            "type": "scattermapbox"
           }
          ],
          "scatterpolar": [
           {
            "marker": {
             "colorbar": {
              "outlinewidth": 0,
              "ticks": ""
             }
            },
            "type": "scatterpolar"
           }
          ],
          "scatterpolargl": [
           {
            "marker": {
             "colorbar": {
              "outlinewidth": 0,
              "ticks": ""
             }
            },
            "type": "scatterpolargl"
           }
          ],
          "scatterternary": [
           {
            "marker": {
             "colorbar": {
              "outlinewidth": 0,
              "ticks": ""
             }
            },
            "type": "scatterternary"
           }
          ],
          "surface": [
           {
            "colorbar": {
             "outlinewidth": 0,
             "ticks": ""
            },
            "colorscale": [
             [
              0,
              "#0d0887"
             ],
             [
              0.1111111111111111,
              "#46039f"
             ],
             [
              0.2222222222222222,
              "#7201a8"
             ],
             [
              0.3333333333333333,
              "#9c179e"
             ],
             [
              0.4444444444444444,
              "#bd3786"
             ],
             [
              0.5555555555555556,
              "#d8576b"
             ],
             [
              0.6666666666666666,
              "#ed7953"
             ],
             [
              0.7777777777777778,
              "#fb9f3a"
             ],
             [
              0.8888888888888888,
              "#fdca26"
             ],
             [
              1,
              "#f0f921"
             ]
            ],
            "type": "surface"
           }
          ],
          "table": [
           {
            "cells": {
             "fill": {
              "color": "#EBF0F8"
             },
             "line": {
              "color": "white"
             }
            },
            "header": {
             "fill": {
              "color": "#C8D4E3"
             },
             "line": {
              "color": "white"
             }
            },
            "type": "table"
           }
          ]
         },
         "layout": {
          "annotationdefaults": {
           "arrowcolor": "#2a3f5f",
           "arrowhead": 0,
           "arrowwidth": 1
          },
          "coloraxis": {
           "colorbar": {
            "outlinewidth": 0,
            "ticks": ""
           }
          },
          "colorscale": {
           "diverging": [
            [
             0,
             "#8e0152"
            ],
            [
             0.1,
             "#c51b7d"
            ],
            [
             0.2,
             "#de77ae"
            ],
            [
             0.3,
             "#f1b6da"
            ],
            [
             0.4,
             "#fde0ef"
            ],
            [
             0.5,
             "#f7f7f7"
            ],
            [
             0.6,
             "#e6f5d0"
            ],
            [
             0.7,
             "#b8e186"
            ],
            [
             0.8,
             "#7fbc41"
            ],
            [
             0.9,
             "#4d9221"
            ],
            [
             1,
             "#276419"
            ]
           ],
           "sequential": [
            [
             0,
             "#0d0887"
            ],
            [
             0.1111111111111111,
             "#46039f"
            ],
            [
             0.2222222222222222,
             "#7201a8"
            ],
            [
             0.3333333333333333,
             "#9c179e"
            ],
            [
             0.4444444444444444,
             "#bd3786"
            ],
            [
             0.5555555555555556,
             "#d8576b"
            ],
            [
             0.6666666666666666,
             "#ed7953"
            ],
            [
             0.7777777777777778,
             "#fb9f3a"
            ],
            [
             0.8888888888888888,
             "#fdca26"
            ],
            [
             1,
             "#f0f921"
            ]
           ],
           "sequentialminus": [
            [
             0,
             "#0d0887"
            ],
            [
             0.1111111111111111,
             "#46039f"
            ],
            [
             0.2222222222222222,
             "#7201a8"
            ],
            [
             0.3333333333333333,
             "#9c179e"
            ],
            [
             0.4444444444444444,
             "#bd3786"
            ],
            [
             0.5555555555555556,
             "#d8576b"
            ],
            [
             0.6666666666666666,
             "#ed7953"
            ],
            [
             0.7777777777777778,
             "#fb9f3a"
            ],
            [
             0.8888888888888888,
             "#fdca26"
            ],
            [
             1,
             "#f0f921"
            ]
           ]
          },
          "colorway": [
           "#636efa",
           "#EF553B",
           "#00cc96",
           "#ab63fa",
           "#FFA15A",
           "#19d3f3",
           "#FF6692",
           "#B6E880",
           "#FF97FF",
           "#FECB52"
          ],
          "font": {
           "color": "#2a3f5f"
          },
          "geo": {
           "bgcolor": "white",
           "lakecolor": "white",
           "landcolor": "white",
           "showlakes": true,
           "showland": true,
           "subunitcolor": "#C8D4E3"
          },
          "hoverlabel": {
           "align": "left"
          },
          "hovermode": "closest",
          "mapbox": {
           "style": "light"
          },
          "paper_bgcolor": "white",
          "plot_bgcolor": "white",
          "polar": {
           "angularaxis": {
            "gridcolor": "#EBF0F8",
            "linecolor": "#EBF0F8",
            "ticks": ""
           },
           "bgcolor": "white",
           "radialaxis": {
            "gridcolor": "#EBF0F8",
            "linecolor": "#EBF0F8",
            "ticks": ""
           }
          },
          "scene": {
           "xaxis": {
            "backgroundcolor": "white",
            "gridcolor": "#DFE8F3",
            "gridwidth": 2,
            "linecolor": "#EBF0F8",
            "showbackground": true,
            "ticks": "",
            "zerolinecolor": "#EBF0F8"
           },
           "yaxis": {
            "backgroundcolor": "white",
            "gridcolor": "#DFE8F3",
            "gridwidth": 2,
            "linecolor": "#EBF0F8",
            "showbackground": true,
            "ticks": "",
            "zerolinecolor": "#EBF0F8"
           },
           "zaxis": {
            "backgroundcolor": "white",
            "gridcolor": "#DFE8F3",
            "gridwidth": 2,
            "linecolor": "#EBF0F8",
            "showbackground": true,
            "ticks": "",
            "zerolinecolor": "#EBF0F8"
           }
          },
          "shapedefaults": {
           "line": {
            "color": "#2a3f5f"
           }
          },
          "ternary": {
           "aaxis": {
            "gridcolor": "#DFE8F3",
            "linecolor": "#A2B1C6",
            "ticks": ""
           },
           "baxis": {
            "gridcolor": "#DFE8F3",
            "linecolor": "#A2B1C6",
            "ticks": ""
           },
           "bgcolor": "white",
           "caxis": {
            "gridcolor": "#DFE8F3",
            "linecolor": "#A2B1C6",
            "ticks": ""
           }
          },
          "title": {
           "x": 0.05
          },
          "xaxis": {
           "automargin": true,
           "gridcolor": "#EBF0F8",
           "linecolor": "#EBF0F8",
           "ticks": "",
           "title": {
            "standoff": 15
           },
           "zerolinecolor": "#EBF0F8",
           "zerolinewidth": 2
          },
          "yaxis": {
           "automargin": true,
           "gridcolor": "#EBF0F8",
           "linecolor": "#EBF0F8",
           "ticks": "",
           "title": {
            "standoff": 15
           },
           "zerolinecolor": "#EBF0F8",
           "zerolinewidth": 2
          }
         }
        },
        "xaxis": {
         "title": {
          "text": "no of cluster"
         }
        },
        "yaxis": {
         "title": {
          "text": "inertia score"
         }
        }
       }
      }
     },
     "metadata": {}
    }
   ],
   "source": [
    "# Select features which arnt categorical, mainly not landcover\n",
    "selectedFeatures = [\"distance\",\"heading\",\"elevation\",\"slope\",\"aspect\",\"CHILI\"]\n",
    "clusterFeat(df=cc, feat = selectedFeatures, nClust = 4)\n",
    "\n",
    "# Assess best option : elbow plot\n",
    "inertiaScores = []\n",
    "for i in range(1,21):\n",
    "    model = clusterFeat(df = cc, feat = selectedFeatures, nClust = i)\n",
    "    inertiaScores.append(model.inertia_)\n",
    "\n",
    "fig = go.Figure()\n",
    "fig.add_trace(go.Scatter(\n",
    "    x = np.arange(1,10),\n",
    "    y = inertiaScores,\n",
    "    mode = \"lines+markers\",\n",
    "    line = dict(color = \"slategray\")\n",
    "))\n",
    "fig.update_layout(xaxis_title = \"no of cluster\", yaxis_title = \"inertia score\", template = \"plotly_white\")\n",
    "fig.show()"
   ]
  },
  {
   "source": [
    "## Select five clusters : Explore trends\n"
   ],
   "cell_type": "markdown",
   "metadata": {}
  },
  {
   "cell_type": "code",
   "execution_count": 49,
   "metadata": {},
   "outputs": [],
   "source": [
    "kmeans5 = clusterFeat(df = cc, feat = selectedFeatures, nClust = 5)\n",
    "cc[\"Kmeans5_Pred\"] = kmeans5.labels_"
   ]
  },
  {
   "cell_type": "code",
   "execution_count": 71,
   "metadata": {},
   "outputs": [
    {
     "output_type": "display_data",
     "data": {
      "application/vnd.plotly.v1+json": {
       "config": {
        "plotlyServerURL": "https://plotly.com"
       },
       "data": [
        {
         "hovertemplate": "color=4<br>x=%{x}<br>y=%{y}<extra></extra>",
         "legendgroup": "4",
         "marker": {
          "color": "#1F77B4",
          "symbol": "circle"
         },
         "mode": "markers",
         "name": "4",
         "orientation": "v",
         "showlegend": true,
         "type": "scatter",
         "x": [
          -39.4557,
          -39.8304,
          -39.8201,
          -40.1541,
          -40.0051,
          -40.1542,
          -40.2619,
          -40.6068,
          -40.1321,
          -40.1739,
          -40.4883,
          -40.6185,
          -39.7519,
          -40.1412,
          -40.1841,
          -39.8608,
          -40.124,
          -39.8474,
          -39.9109,
          -40.5722,
          -40.6208,
          -39.7613,
          -40.7513,
          -40.3817,
          -40.1909,
          -40.4907,
          -40.3829,
          -40.6759,
          -40.2124,
          -40.4898,
          -40.4724,
          -39.7441,
          -40.422,
          -39.7041,
          -40.0732,
          -39.7931,
          -40.1123,
          -40.1161,
          -39.7115,
          -39.9712,
          -39.909,
          -39.4387,
          -40.4366,
          -39.6457,
          -40.6801,
          -40.1188,
          -40.0025,
          -40.029,
          -40.7272,
          -40.3801,
          -39.8799,
          -40.1054,
          -40.1834,
          -39.4581,
          -40.0324,
          -39.5317,
          -40.3319,
          -39.7047,
          -39.8158,
          -40.3701,
          -40.265,
          -40.027,
          -40.0491,
          -39.9918,
          -40.3337,
          -39.8674,
          -39.7618,
          -39.9958,
          -40.3178,
          -40.2782,
          -39.4933,
          -39.7987,
          -39.2905,
          -40.5293,
          -39.3918,
          -39.8205,
          -40.1768,
          -40.37,
          -40.5391,
          -40.2713,
          -40.5734,
          -39.6665,
          -39.4209,
          -39.8208,
          -40.1313,
          -39.7495,
          -40.2155,
          -40.0444,
          -39.6046,
          -40.2087,
          -40.1083,
          -39.7575,
          -39.5366,
          -39.4176,
          -40.5844,
          -40.1323,
          -39.4185,
          -39.6625,
          -40.5697,
          -39.6369,
          -40.3833,
          -39.6793,
          -40.3102,
          -40.4038,
          -39.9577,
          -40.7127,
          -39.3244,
          -40.403,
          -39.8367,
          -39.5277,
          -39.9828,
          -39.6058,
          -40.1286,
          -40.3845,
          -39.8118,
          -40.0586,
          -40.2615,
          -39.8304,
          -40.5829,
          -40.3427,
          -40.2094,
          -39.3747,
          -40.2165,
          -39.842,
          -40.0048,
          -40.3848,
          -40.7471,
          -40.0128,
          -39.3733,
          -40.1911,
          -39.3797,
          -39.7227,
          -39.4578,
          -39.8705,
          -40.5396,
          -39.8428,
          -40.3625,
          -40.1189,
          -40.0206,
          -39.6512,
          -39.9013,
          -40.0624,
          -39.7761,
          -39.842,
          -39.4767,
          -40.084,
          -40.2381,
          -40.0858,
          -40.183,
          -39.3906,
          -39.5698,
          -40.6812,
          -40.0274,
          -40.3249,
          -40.1435,
          -39.4989,
          -40.6428,
          -39.4688,
          -40.1746,
          -39.3382,
          -39.8614,
          -39.9217,
          -39.988,
          -39.3112,
          -39.9339,
          -40.673,
          -40.0394,
          -39.5953,
          -40.0282,
          -40.0417,
          -39.341,
          -39.6546,
          -40.3685,
          -39.6867,
          -40.017,
          -39.8037,
          -39.5363,
          -39.6567,
          -40.451,
          -39.9806,
          -40.0897,
          -40.201,
          -40.3423,
          -40.3598,
          -40.2945,
          -40.0743,
          -40.2372,
          -39.8487,
          -39.7034,
          -40.084,
          -39.9078,
          -39.855,
          -40.4258,
          -40.0255,
          -39.7035,
          -40.1337,
          -39.8781,
          -40.0874,
          -40.1569,
          -40.0306,
          -40.6103,
          -39.8873,
          -39.5643,
          -39.5655,
          -39.9343,
          -39.8078,
          -39.8153,
          -39.8156,
          -40.6157,
          -40.3551,
          -40.5086,
          -39.9356,
          -40.0258,
          -39.6823,
          -40.711,
          -40.7684,
          -39.6094,
          -40.1564,
          -39.3193,
          -40.3613,
          -40.0724,
          -39.8514,
          -39.9306,
          -39.9736,
          -40.1494,
          -40.0197,
          -40.0764,
          -39.9593,
          -40.1195,
          -39.9928,
          -40.2985,
          -40.0561,
          -40.1192,
          -40.042,
          -40.1265,
          -40.1024,
          -40.1677,
          -39.9596,
          -40.2079,
          -40.1356,
          -39.9244,
          -39.7353,
          -40.0939,
          -40.0353,
          -40.1684,
          -39.7393,
          -39.7094,
          -40.7528,
          -40.1363,
          -40.1701,
          -40.0509,
          -39.9853,
          -40.086,
          -40.0716,
          -40.1126,
          -40.6896,
          -40.1126,
          -40.2088,
          -40.0879,
          -39.9593,
          -39.7039,
          -40.153,
          -40.0789,
          -39.849,
          -39.8993,
          -39.9876,
          -40.0766,
          -40.1256,
          -40.1418,
          -40.0904,
          -39.9011,
          -40.1515,
          -39.9301,
          -40.0929,
          -40.4478,
          -40.0597,
          -40.2251,
          -39.9884,
          -39.9823,
          -39.7123,
          -40.0205,
          -39.9316,
          -40.2821,
          -39.9812,
          -40.1335,
          -40.1202,
          -40.0921,
          -40.1465,
          -39.9391,
          -40.2438,
          -39.7073,
          -40.125,
          -40.155,
          -39.6578,
          -39.795,
          -40.1341,
          -40.142,
          -39.9927,
          -40.1303,
          -40.0747,
          -39.7607,
          -39.6553,
          -40.0523,
          -40.1447,
          -40.1032,
          -39.8103,
          -40.0669,
          -40.031,
          -40.0578,
          -40.1446,
          -40.1081,
          -39.7128,
          -40.1078,
          -39.7367,
          -39.7298,
          -40.0174,
          -40.3998,
          -40.1469,
          -40.0019,
          -40.1864,
          -40.1469,
          -40.1456,
          -39.9592,
          -40.1077,
          -40.0292,
          -39.9833,
          -39.9699,
          -39.764,
          -40.1364,
          -40.1322,
          -40.1902,
          -40.094,
          -40.0704,
          -40.1027,
          -39.9926,
          -40.0239,
          -40.1305,
          -40.0398,
          -40.0131,
          -40.2268,
          -39.8497,
          -39.9615,
          -40.0497,
          -40.1631,
          -40.1346,
          -39.9804
         ],
         "xaxis": "x",
         "y": [
          -71.3664,
          -71.1597,
          -71.4089,
          -71.2892,
          -70.5045,
          -71.1986,
          -70.837,
          -70.7176,
          -71.089,
          -70.0852,
          -70.6753,
          -70.0838,
          -71.1373,
          -70.596,
          -70.2591,
          -70.5386,
          -70.5788,
          -70.4139,
          -71.3513,
          -70.7675,
          -70.2426,
          -70.3698,
          -70.6564,
          -70.1607,
          -71.8239,
          -70.1359,
          -72.111,
          -71.0353,
          -70.861,
          -71.6762,
          -70.798,
          -70.0384,
          -71.9276,
          -70.9308,
          -69.9368,
          -70.2293,
          -70.7131,
          -71.526,
          -70.7693,
          -70.6409,
          -70.3921,
          -70.4863,
          -71.6815,
          -71.5984,
          -70.8934,
          -70.568,
          -70.8778,
          -70.8765,
          -71.1434,
          -70.2051,
          -70.0782,
          -70.4281,
          -72.0476,
          -70.9831,
          -71.9689,
          -70.5189,
          -71.9953,
          -71.5083,
          -70.7966,
          -70.7872,
          -70.1225,
          -70.9921,
          -72.0001,
          -70.9479,
          -70.2132,
          -70.2126,
          -70.844,
          -71.3229,
          -70.1958,
          -71.0937,
          -70.8906,
          -70.6712,
          -70.6416,
          -70.7343,
          -70.4919,
          -70.5611,
          -70.7312,
          -71.0671,
          -70.7066,
          -70.4712,
          -70.2698,
          -70.1771,
          -70.2255,
          -71.3314,
          -71.3747,
          -71.7807,
          -70.6751,
          -71.0236,
          -71.0509,
          -70.5745,
          -70.0724,
          -70.6581,
          -70.4308,
          -70.7015,
          -70.5095,
          -71.1727,
          -70.3441,
          -70.8196,
          -70.9279,
          -70.8948,
          -70.399,
          -70.2047,
          -70.7872,
          -70.8286,
          -70.527,
          -70.5822,
          -70.8928,
          -72.0067,
          -70.5047,
          -70.3573,
          -70.665,
          -70.9307,
          -70.1115,
          -72.1154,
          -70.5217,
          -70.9132,
          -70.6849,
          -70.3183,
          -70.4486,
          -70.3034,
          -71.4417,
          -70.3572,
          -70.6686,
          -70.2849,
          -71.378,
          -70.5332,
          -70.1522,
          -70.364,
          -70.6675,
          -72.0213,
          -70.8767,
          -71.2854,
          -70.1877,
          -70.7825,
          -70.8098,
          -70.4652,
          -70.5607,
          -70.4025,
          -70.8698,
          -70.923,
          -70.42,
          -70.648,
          -70.2315,
          -71.1471,
          -70.244,
          -70.9678,
          -69.9995,
          -70.811,
          -70.3907,
          -70.2611,
          -71.2075,
          -70.1798,
          -70.0929,
          -70.6305,
          -72.0458,
          -70.4397,
          -70.2568,
          -70.5303,
          -70.8569,
          -70.6886,
          -70.3927,
          -70.8198,
          -70.1941,
          -70.9442,
          -70.28,
          -70.738,
          -71.7489,
          -70.2317,
          -71.0351,
          -71.1948,
          -70.974,
          -71.6303,
          -70.1549,
          -71.1933,
          -70.4241,
          -70.354,
          -70.7854,
          -70.9618,
          -70.3501,
          -70.2769,
          -69.9448,
          -70.6738,
          -71.0728,
          -71.999,
          -70.5685,
          -70.19,
          -70.9319,
          -70.6754,
          -71.6027,
          -71.6279,
          -70.2709,
          -70.4484,
          -70.2652,
          -70.8548,
          -70.7122,
          -70.4613,
          -70.1746,
          -70.9458,
          -71.5438,
          -71.1664,
          -70.3807,
          -70.498,
          -70.4905,
          -70.7912,
          -70.5172,
          -71.009,
          -71.5998,
          -70.6388,
          -71.0133,
          -70.4249,
          -70.687,
          -70.532,
          -70.4184,
          -70.4703,
          -70.732,
          -70.3923,
          -70.1954,
          -70.7847,
          -70.646,
          -70.5773,
          -71.0484,
          -70.8664,
          -71.0738,
          -70.8006,
          -70.7362,
          -70.8392,
          -71.1318,
          -71.0833,
          -71.2692,
          -70.8648,
          -70.2912,
          -70.9205,
          -71.2389,
          -70.1145,
          -70.7471,
          -70.7614,
          -70.4033,
          -71.0823,
          -70.6715,
          -70.7467,
          -70.9349,
          -70.5949,
          -71.014,
          -70.294,
          -71.2936,
          -70.6081,
          -70.3837,
          -70.7038,
          -70.3081,
          -71.0464,
          -70.786,
          -70.7987,
          -70.9001,
          -70.7679,
          -70.9191,
          -71.2205,
          -70.9184,
          -70.8675,
          -70.5523,
          -71.0841,
          -70.3764,
          -70.8806,
          -70.1882,
          -70.7067,
          -70.5664,
          -70.8365,
          -70.8913,
          -71.2533,
          -71.2578,
          -70.9097,
          -70.8565,
          -70.7537,
          -71.0689,
          -70.597,
          -71.5405,
          -70.7792,
          -70.6681,
          -70.7885,
          -70.7992,
          -70.3937,
          -70.8501,
          -70.9303,
          -71.3932,
          -70.5584,
          -70.7492,
          -71.2804,
          -71.042,
          -70.7387,
          -70.5505,
          -70.6371,
          -70.3819,
          -71.2212,
          -70.7789,
          -70.2379,
          -70.6106,
          -71.312,
          -70.7205,
          -71.092,
          -70.2908,
          -70.9587,
          -70.399,
          -70.2342,
          -70.9356,
          -70.7311,
          -70.9033,
          -70.0949,
          -70.7732,
          -70.9628,
          -70.93,
          -71.3264,
          -71.1978,
          -70.5799,
          -70.9518,
          -70.5915,
          -70.4748,
          -70.9204,
          -70.8364,
          -70.7406,
          -71.0816,
          -71.4407,
          -70.7447,
          -70.9117,
          -71.0836,
          -70.9074,
          -70.6502,
          -70.7907,
          -71.0772,
          -70.6363,
          -70.7486,
          -71.2796,
          -70.6689,
          -71.0433,
          -70.168,
          -70.9004,
          -70.5598,
          -71.0814,
          -71.3092,
          -70.9526,
          -70.9288,
          -70.7741,
          -70.8651,
          -70.9176,
          -70.5027,
          -70.5607,
          -70.3064,
          -70.7932
         ],
         "yaxis": "y"
        },
        {
         "hovertemplate": "color=2<br>x=%{x}<br>y=%{y}<extra></extra>",
         "legendgroup": "2",
         "marker": {
          "color": "#FF7F0E",
          "symbol": "circle"
         },
         "mode": "markers",
         "name": "2",
         "orientation": "v",
         "showlegend": true,
         "type": "scatter",
         "x": [
          -41.3661,
          -41.5041,
          -40.6959,
          -41.8339,
          -40.6802,
          -41.8663,
          -40.936,
          -41.98,
          -41.1144,
          -41.0113,
          -41.4757,
          -41.7116,
          -41.9134,
          -41.615,
          -41.7727,
          -41.9013,
          -41.3831,
          -40.7364,
          -40.5904,
          -41.5929,
          -41.668,
          -41.3544,
          -41.4071,
          -41.5987,
          -40.4419,
          -41.5939,
          -41.2312,
          -41.7639,
          -41.8493,
          -41.1777,
          -41.1337,
          -41.3384,
          -41.3417,
          -40.9974,
          -41.4533,
          -41.4358,
          -41.6193,
          -40.9853,
          -41.5183,
          -41.459,
          -41.7204,
          -41.1461,
          -41.4476,
          -41.4128,
          -40.8123,
          -41.3996,
          -40.8735,
          -42.0787,
          -41.7534,
          -40.8071,
          -40.9704,
          -41.1676,
          -41.4178,
          -41.5258,
          -41.8523,
          -41.8969,
          -40.8777,
          -41.8834,
          -41.1203,
          -41.6064,
          -41.1082,
          -41.8047,
          -40.8906,
          -41.1075,
          -41.2472,
          -40.5714,
          -40.8102,
          -41.0182,
          -40.7788,
          -40.8522,
          -40.8425,
          -42.0359,
          -40.5911,
          -41.8097,
          -41.7907,
          -41.2453,
          -41.2674,
          -40.9247,
          -41.0468,
          -41.1973,
          -40.6331,
          -41.4093,
          -41.9031,
          -40.8689,
          -41.0846,
          -41.3729,
          -41.0049,
          -41.1038,
          -41.2865,
          -40.6643,
          -40.7954,
          -41.8281,
          -41.9414,
          -41.058,
          -40.6598,
          -41.3326,
          -41.4112,
          -40.9568,
          -41.9574,
          -41.1471,
          -41.918,
          -41.8268,
          -42.0196,
          -41.8558,
          -40.9926,
          -40.9033,
          -41.1936,
          -41.3768,
          -41.4372,
          -41.9156,
          -40.6628,
          -40.9825,
          -41.1593,
          -41.3515,
          -41.0801,
          -40.8436,
          -41.7386,
          -42.0883,
          -41.471,
          -40.7179,
          -41.7111,
          -41.2033,
          -41.8131,
          -41.0897,
          -41.5653,
          -41.0107,
          -42.1457,
          -41.6398,
          -41.6172,
          -41.0933,
          -41.6687,
          -41.7548,
          -40.6295,
          -41.7795,
          -41.4695,
          -41.2818,
          -41.5756,
          -41.2717,
          -41.6843,
          -42.1443,
          -41.8278,
          -40.7261,
          -41.5035,
          -40.7809,
          -41.6374,
          -41.4448,
          -42.0254,
          -40.808,
          -41.7175,
          -41.8884,
          -41.3343,
          -41.5944,
          -40.9928,
          -41.0103,
          -40.574,
          -41.0505,
          -41.6292,
          -40.7936,
          -41.2485,
          -41.4112,
          -41.3699,
          -41.3158,
          -41.0306,
          -41.6594,
          -41.3224,
          -41.0212,
          -41.5179,
          -40.9148,
          -41.0279,
          -41.5225,
          -41.4764,
          -41.0435,
          -41.558,
          -41.2661,
          -41.4081,
          -41.3203,
          -41.8888,
          -40.7831,
          -41.7663,
          -40.9977,
          -41.333,
          -41.2016,
          -40.8249,
          -41.1891,
          -41.282,
          -41.3561,
          -40.753,
          -41.112,
          -40.8283,
          -41.538,
          -42.0819,
          -41.638,
          -41.4535,
          -41.4996,
          -41.2611,
          -41.9544,
          -41.8419,
          -40.9076,
          -41.7522,
          -41.1009,
          -40.9363,
          -41.7983,
          -41.1746,
          -41.3371,
          -41.5683,
          -41.9363,
          -41.6117,
          -41.527,
          -41.0006,
          -41.7691,
          -41.9263,
          -41.6086,
          -42.0154,
          -41.3418,
          -41.5361,
          -42.0758,
          -41.2042,
          -41.2804,
          -41.2015,
          -41.735,
          -41.1788,
          -41.1217,
          -40.9606,
          -41.2194,
          -41.1784,
          -41.0965,
          -41.2921,
          -41.6332,
          -41.1621,
          -41.119,
          -41.2916,
          -41.2322,
          -41.1737,
          -41.1567,
          -41.4607,
          -41.2924,
          -41.1088,
          -40.9656,
          -41.6834,
          -41.1503,
          -41.247,
          -41.2268,
          -41.4576,
          -41.1609,
          -41.5706,
          -41.1837,
          -41.1671,
          -41.8454,
          -41.1284,
          -41.1692,
          -41.1801,
          -40.8737,
          -41.4597,
          -41.0091,
          -41.2811,
          -41.1749,
          -41.1334,
          -41.0079,
          -41.5317,
          -41.0891,
          -41.8218,
          -41.1901,
          -41.544,
          -41.1314,
          -41.3473,
          -41.1631,
          -41.482,
          -41.3486,
          -41.1508,
          -41.1332,
          -41.2002,
          -41.2904,
          -41.4495,
          -41.0574,
          -41.687,
          -41.0881,
          -41.0283,
          -41.1407,
          -41.1323,
          -41.1345,
          -41.1272,
          -41.6658,
          -41.1283,
          -41.4412,
          -41.1929,
          -41.263,
          -40.8982,
          -41.4443,
          -41.2843,
          -41.1229,
          -41.8546,
          -41.1608,
          -41.1931,
          -41.1323,
          -41.469,
          -40.9538,
          -41.1619,
          -41.1668,
          -41.2829,
          -41.5799,
          -41.1626,
          -41.3022,
          -41.5442,
          -41.117,
          -41.2023,
          -41.1691,
          -41.3251,
          -41.1624,
          -41.4692,
          -41.1829,
          -41.5861,
          -41.0683,
          -41.0282,
          -41.2885,
          -41.1348,
          -41.0199,
          -41.1291,
          -41.164,
          -41.6586,
          -41.5064,
          -41.3394,
          -41.1472,
          -41.2656,
          -41.1245,
          -41.5954,
          -41.7855,
          -41.0867,
          -41.0568,
          -41.0273,
          -41.4652,
          -41.1653,
          -40.985,
          -41.1597,
          -40.7303,
          -41.1428,
          -40.9569,
          -40.9528
         ],
         "xaxis": "x",
         "y": [
          -70.5747,
          -69.6361,
          -69.9291,
          -70.8377,
          -71.6957,
          -70.7191,
          -70.6157,
          -70.1001,
          -70.5738,
          -71.0337,
          -71.7147,
          -71.1113,
          -70.9833,
          -71.0122,
          -70.0295,
          -70.6114,
          -70.4517,
          -70.833,
          -70.0971,
          -71.5627,
          -70.4605,
          -71.7457,
          -71.2204,
          -70.7988,
          -72.1407,
          -71.0417,
          -71.7882,
          -69.7426,
          -70.7412,
          -70.5,
          -70.1267,
          -71.3519,
          -71.1984,
          -70.5388,
          -71.0304,
          -70.1808,
          -70.656,
          -70.5372,
          -70.7393,
          -71.0008,
          -69.7765,
          -70.5847,
          -70.0236,
          -71.1732,
          -71.638,
          -70.833,
          -70.152,
          -69.9846,
          -70.7952,
          -71.786,
          -71.8594,
          -71.2747,
          -70.3206,
          -71.1393,
          -69.7639,
          -70.5233,
          -70.9989,
          -70.737,
          -70.91,
          -69.8168,
          -69.8241,
          -69.7323,
          -70.2831,
          -69.7106,
          -70.1682,
          -70.0363,
          -70.7851,
          -70.7402,
          -70.6015,
          -70.9755,
          -70.0102,
          -70.7033,
          -70.0478,
          -70.6828,
          -69.8826,
          -71.8372,
          -70.8299,
          -71.4319,
          -70.4269,
          -70.5846,
          -69.9612,
          -69.9379,
          -69.7318,
          -70.5538,
          -70.717,
          -71.6794,
          -70.7172,
          -70.4379,
          -70.7929,
          -72.084,
          -71.6049,
          -71.0479,
          -70.566,
          -71.471,
          -72.0193,
          -69.9757,
          -71.0533,
          -70.2557,
          -70.6763,
          -70.6739,
          -70.9542,
          -71.0466,
          -70.874,
          -71.1759,
          -71.3353,
          -71.0354,
          -69.9561,
          -70.552,
          -71.0063,
          -71.1657,
          -72.0484,
          -70.7033,
          -70.7323,
          -71.0415,
          -71.5585,
          -70.4243,
          -71.0102,
          -70.7591,
          -69.6587,
          -72.0513,
          -70.9579,
          -71.3168,
          -69.8868,
          -70.4777,
          -71.0121,
          -70.9097,
          -70.3584,
          -70.8561,
          -69.7506,
          -71.0453,
          -71.3185,
          -71.2175,
          -70.2984,
          -70.852,
          -69.983,
          -71.0509,
          -70.6814,
          -69.7251,
          -71.2219,
          -70.165,
          -71.1968,
          -70.9145,
          -70.0054,
          -70.0703,
          -70.8781,
          -71.6988,
          -69.8665,
          -70.7826,
          -71.105,
          -70.6642,
          -71.3872,
          -70.8546,
          -70.7115,
          -71.2919,
          -70.0095,
          -71.0011,
          -70.7664,
          -70.8818,
          -70.898,
          -71.2075,
          -70.3658,
          -71.0484,
          -70.7685,
          -70.7806,
          -71.0018,
          -70.2446,
          -70.7504,
          -70.2557,
          -71.3261,
          -71.512,
          -71.2242,
          -70.7946,
          -70.8562,
          -69.6799,
          -70.0248,
          -71.1642,
          -70.7681,
          -70.3271,
          -71.4568,
          -70.4075,
          -71.1923,
          -71.0046,
          -71.6419,
          -70.7571,
          -70.6139,
          -70.9693,
          -71.6558,
          -71.1863,
          -71.8723,
          -71.4683,
          -70.8033,
          -71.3145,
          -71.4871,
          -69.9535,
          -71.1017,
          -69.8039,
          -70.7237,
          -70.3254,
          -70.9164,
          -71.1788,
          -70.2596,
          -70.5058,
          -70.743,
          -70.7117,
          -71.4485,
          -70.2509,
          -71.601,
          -70.9124,
          -71.4132,
          -69.9319,
          -69.9338,
          -69.9506,
          -70.7324,
          -70.77,
          -70.7009,
          -70.5581,
          -70.8996,
          -70.7023,
          -71.3531,
          -70.469,
          -70.4295,
          -70.8711,
          -71.5804,
          -70.711,
          -71.087,
          -70.7064,
          -70.4467,
          -70.1814,
          -71.1026,
          -71.0234,
          -70.7147,
          -70.676,
          -71.0912,
          -71.0926,
          -70.6621,
          -70.4481,
          -71.1941,
          -71.192,
          -70.7135,
          -70.4009,
          -70.493,
          -70.6754,
          -70.4984,
          -71.0764,
          -70.1943,
          -71.109,
          -71.0994,
          -70.382,
          -70.7015,
          -71.0792,
          -71.0982,
          -70.7211,
          -70.5033,
          -71.2157,
          -70.4411,
          -71.1023,
          -70.7028,
          -70.6615,
          -70.8948,
          -70.7097,
          -70.3876,
          -71.0952,
          -70.8143,
          -70.7554,
          -71.0649,
          -71.0813,
          -70.5309,
          -71.0612,
          -70.6731,
          -70.7317,
          -71.0578,
          -70.7512,
          -70.7012,
          -71.2496,
          -70.7152,
          -71.5381,
          -71.2038,
          -70.6834,
          -70.7151,
          -70.725,
          -71.363,
          -70.166,
          -71.3638,
          -70.7009,
          -71.0741,
          -70.703,
          -70.3461,
          -70.9328,
          -70.4433,
          -70.8908,
          -70.3692,
          -70.4081,
          -71.1005,
          -70.7388,
          -70.8655,
          -70.233,
          -71.104,
          -70.6679,
          -70.7098,
          -70.7258,
          -71.0765,
          -70.806,
          -70.8138,
          -71.2154,
          -71.0575,
          -71.097,
          -70.6977,
          -70.6722,
          -70.8684,
          -70.679,
          -70.1885,
          -70.9904,
          -71.4029,
          -70.751,
          -70.7155,
          -71.2317,
          -70.733,
          -71.0981,
          -70.1725,
          -70.2838,
          -70.403,
          -70.6805,
          -71.2053,
          -71.0755,
          -70.186,
          -70.4295,
          -71.037,
          -70.326,
          -71.215,
          -70.5068,
          -71.0805,
          -70.2473,
          -71.0976,
          -70.8322,
          -70.6821,
          -70.232,
          -70.2312
         ],
         "yaxis": "y"
        },
        {
         "hovertemplate": "color=0<br>x=%{x}<br>y=%{y}<extra></extra>",
         "legendgroup": "0",
         "marker": {
          "color": "#2CA02C",
          "symbol": "circle"
         },
         "mode": "markers",
         "name": "0",
         "orientation": "v",
         "showlegend": true,
         "type": "scatter",
         "x": [
          -40.6426,
          -40.2261,
          -41.6117,
          -40.2936,
          -39.5235,
          -41.3324,
          -40.4672,
          -40.4651,
          -40.7572,
          -40.4367,
          -39.4463,
          -39.8938,
          -40.7105,
          -40.2452,
          -39.5289,
          -41.3404,
          -39.7938,
          -40.3594,
          -41.2125,
          -40.0161,
          -40.417,
          -39.8044,
          -39.8091,
          -39.6273,
          -40.0655,
          -39.6004,
          -40.1334,
          -40.9546,
          -40.5936,
          -40.6626,
          -40.5608,
          -40.6868,
          -40.9741,
          -41.0539,
          -40.1086,
          -39.7286,
          -40.3967,
          -39.571,
          -40.1828,
          -40.1987,
          -41.5441,
          -40.4216,
          -39.3785,
          -40.4448,
          -40.7742,
          -41.1398,
          -40.1632,
          -41.1803,
          -40.0619,
          -41.2258,
          -39.657,
          -39.8698,
          -41.3572,
          -41.3307,
          -39.5038,
          -40.8581,
          -40.2273,
          -39.5541,
          -40.3904,
          -39.9454,
          -40.1927,
          -39.5369,
          -41.2402,
          -40.196,
          -40.0796,
          -39.8185,
          -39.9243,
          -39.5274,
          -40.1374,
          -40.2441,
          -41.2726,
          -39.6665,
          -40.3004,
          -41.2698,
          -40.2374,
          -39.6744,
          -41.151,
          -40.671,
          -40.5261,
          -39.4132,
          -39.7591,
          -40.2074,
          -40.6615,
          -40.8375,
          -40.7318,
          -40.4003,
          -40.6287,
          -40.7277,
          -40.1901,
          -40.3365,
          -40.338,
          -40.2408,
          -40.1705,
          -40.7342,
          -40.4299,
          -40.7588,
          -40.1754,
          -40.7252,
          -40.3667,
          -40.4488,
          -40.1969,
          -40.5057,
          -40.4364,
          -40.5544,
          -40.3634,
          -40.4554,
          -41.1325,
          -40.5274,
          -40.4065,
          -40.647
         ],
         "xaxis": "x",
         "y": [
          -71.5689,
          -71.917,
          -71.4286,
          -71.6106,
          -71.0721,
          -71.4802,
          -71.3584,
          -71.5646,
          -71.9694,
          -71.3945,
          -71.2492,
          -71.6751,
          -70.9879,
          -71.4393,
          -70.9355,
          -71.0988,
          -71.4906,
          -71.4353,
          -71.2928,
          -71.7637,
          -71.176,
          -71.3546,
          -71.7556,
          -71.4112,
          -71.674,
          -71.1794,
          -71.7673,
          -71.9142,
          -71.1211,
          -71.8333,
          -71.2046,
          -71.3099,
          -70.7487,
          -71.9194,
          -72.0333,
          -71.7435,
          -71.3995,
          -71.2468,
          -71.4516,
          -71.4918,
          -70.9728,
          -71.0081,
          -70.8511,
          -71.3772,
          -71.2827,
          -71.7156,
          -71.6466,
          -70.107,
          -71.8167,
          -71.3195,
          -71.3138,
          -71.6134,
          -70.227,
          -71.2175,
          -70.9186,
          -71.0876,
          -71.356,
          -70.8218,
          -71.331,
          -71.4254,
          -71.8236,
          -71.522,
          -70.6559,
          -71.2146,
          -70.4647,
          -71.7086,
          -71.5882,
          -70.7801,
          -71.1012,
          -71.7181,
          -71.6806,
          -71.0821,
          -71.6357,
          -71.7123,
          -71.5283,
          -71.5971,
          -70.9842,
          -72.0505,
          -71.4148,
          -70.7621,
          -71.1653,
          -71.6066,
          -71.4361,
          -71.7053,
          -71.3818,
          -71.3492,
          -71.5549,
          -71.4,
          -71.2108,
          -71.3824,
          -71.3789,
          -71.3747,
          -71.2099,
          -71.395,
          -71.2907,
          -71.7895,
          -71.1968,
          -71.4167,
          -71.8296,
          -71.3612,
          -71.293,
          -71.9121,
          -71.3996,
          -71.5362,
          -71.3389,
          -71.5397,
          -71.5296,
          -71.8297,
          -71.3427,
          -71.4646
         ],
         "yaxis": "y"
        },
        {
         "hovertemplate": "color=1<br>x=%{x}<br>y=%{y}<extra></extra>",
         "legendgroup": "1",
         "marker": {
          "color": "#D62728",
          "symbol": "circle"
         },
         "mode": "markers",
         "name": "1",
         "orientation": "v",
         "showlegend": true,
         "type": "scatter",
         "x": [
          -40.9754,
          -40.3002,
          -40.1058,
          -40.572,
          -39.5257,
          -41.6748,
          -40.2295,
          -39.3578,
          -41.4147,
          -39.9831,
          -40.5271,
          -40.4289,
          -39.6526,
          -40.4461,
          -41.3949,
          -40.0338,
          -41.0827,
          -41.6318,
          -40.261,
          -41.5914,
          -40.7877,
          -40.4811,
          -40.6268,
          -39.6636,
          -39.4571,
          -39.571,
          -39.4617,
          -40.3439,
          -40.8863,
          -41.0935,
          -40.8555,
          -41.5949,
          -39.6027,
          -40.1739,
          -41.2615,
          -41.6041,
          -41.6033,
          -40.1352,
          -41.3874,
          -39.7453,
          -40.7292,
          -40.9412,
          -39.6714,
          -41.526,
          -39.6401,
          -40.6574,
          -40.2832,
          -40.6942,
          -40.3454,
          -39.6461,
          -41.0834,
          -40.5649,
          -40.3466,
          -41.0664,
          -40.4914,
          -40.0332,
          -40.4382,
          -40.4893,
          -40.7493,
          -39.5622,
          -40.9347,
          -40.5729,
          -40.7515,
          -40.7877,
          -40.6264,
          -40.7683,
          -41.0298,
          -39.9528,
          -40.4877,
          -41.7695,
          -40.5742,
          -40.2532,
          -40.2636,
          -40.3996,
          -40.7374,
          -40.8288,
          -40.391,
          -40.833,
          -40.1739,
          -40.4569,
          -40.1893
         ],
         "xaxis": "x",
         "y": [
          -71.8836,
          -71.7742,
          -71.9069,
          -71.6931,
          -70.5704,
          -71.1499,
          -71.6101,
          -71.0447,
          -71.7051,
          -71.9118,
          -71.5286,
          -71.1082,
          -71.2207,
          -71.2767,
          -71.6837,
          -71.3261,
          -71.7742,
          -71.3787,
          -71.6933,
          -71.3584,
          -71.2511,
          -71.2014,
          -71.2811,
          -70.4873,
          -71.4244,
          -71.3954,
          -71.1566,
          -71.7578,
          -71.9124,
          -70.3794,
          -71.8231,
          -71.0347,
          -71.3427,
          -71.7792,
          -71.7712,
          -71.156,
          -71.3608,
          -71.7485,
          -71.5117,
          -71.7514,
          -71.7448,
          -71.3215,
          -71.6777,
          -71.3217,
          -71.6362,
          -71.1298,
          -71.9799,
          -70.3718,
          -71.6511,
          -71.6445,
          -71.6699,
          -71.1899,
          -71.0615,
          -71.8273,
          -71.8169,
          -71.8513,
          -71.3531,
          -72.0311,
          -72.0258,
          -71.1461,
          -71.6699,
          -71.8859,
          -71.5071,
          -70.9428,
          -71.2591,
          -71.4913,
          -71.9193,
          -71.5386,
          -71.8587,
          -71.0083,
          -71.4694,
          -71.2959,
          -71.3961,
          -71.3375,
          -71.8516,
          -71.7976,
          -71.3124,
          -71.4505,
          -71.2058,
          -71.3507,
          -71.487
         ],
         "yaxis": "y"
        },
        {
         "hovertemplate": "color=3<br>x=%{x}<br>y=%{y}<extra></extra>",
         "legendgroup": "3",
         "marker": {
          "color": "#9467BD",
          "symbol": "circle"
         },
         "mode": "markers",
         "name": "3",
         "orientation": "v",
         "showlegend": true,
         "type": "scatter",
         "x": [
          -39.9676,
          -40.076,
          -39.8174,
          -39.7968,
          -39.8543,
          -39.8003,
          -39.9619,
          -39.9277,
          -39.6553,
          -40.024,
          -39.5886,
          -39.9622,
          -39.5213,
          -39.6365,
          -39.8822,
          -39.526,
          -39.5401,
          -39.4739,
          -39.8315,
          -39.7803,
          -39.4757,
          -39.5042,
          -39.6402,
          -40.0119,
          -39.5173,
          -39.5238,
          -39.5175,
          -39.5392,
          -39.4873,
          -39.5256,
          -39.5313,
          -42.3175,
          -39.3806,
          -39.8367,
          -39.5057,
          -39.5327,
          -39.9144,
          -39.8382,
          -39.5392,
          -39.8277,
          -39.5104,
          -39.6402,
          -39.9066,
          -39.5267,
          -39.5366,
          -39.9584,
          -39.9563,
          -39.4469,
          -39.5169,
          -39.5133,
          -39.7672,
          -39.4942,
          -39.5216,
          -39.6633,
          -39.5442,
          -39.4779,
          -39.5206,
          -40.0329,
          -39.8171,
          -42.4373,
          -40.0122,
          -39.515,
          -39.5393,
          -39.5388,
          -39.4999,
          -39.5169,
          -39.5281,
          -39.5064,
          -39.5277,
          -39.8252,
          -39.6264,
          -39.9596,
          -39.6668,
          -39.4936,
          -39.505,
          -39.5244,
          -39.5276,
          -39.3458,
          -39.9556,
          -39.5249,
          -40.011,
          -39.6155,
          -39.496,
          -39.9577,
          -39.5274,
          -40.0558,
          -39.5232,
          -39.928,
          -39.808,
          -39.6221,
          -39.885,
          -39.5223,
          -39.5385,
          -39.9571,
          -39.7736,
          -39.9552,
          -39.3776,
          -39.4721,
          -39.5007,
          -39.5174,
          -39.5078,
          -39.4988,
          -39.865,
          -39.5169,
          -39.5295,
          -39.5071,
          -39.631,
          -39.5243,
          -40.0475,
          -39.5041,
          -39.5356,
          -40.0531,
          -39.4998,
          -39.5287,
          -39.7801,
          -39.8273,
          -39.5256,
          -40.0853,
          -39.9569,
          -42.3635,
          -42.3315,
          -39.3982,
          -39.5239,
          -39.7672,
          -39.8792,
          -39.5237
         ],
         "xaxis": "x",
         "y": [
          -69.9258,
          -70.185,
          -69.9136,
          -69.8952,
          -69.8706,
          -70.0312,
          -70.0731,
          -69.9334,
          -69.9928,
          -69.9136,
          -69.9907,
          -69.9973,
          -69.2996,
          -69.3219,
          -69.8134,
          -69.2803,
          -69.3092,
          -69.5283,
          -69.6356,
          -69.4879,
          -69.5251,
          -69.3186,
          -69.4052,
          -70.0541,
          -69.2999,
          -69.3552,
          -69.3171,
          -69.2966,
          -69.2697,
          -69.3131,
          -69.3385,
          -67.023,
          -69.6525,
          -69.6261,
          -69.2899,
          -69.353,
          -69.8719,
          -69.6622,
          -69.3162,
          -69.5797,
          -69.3096,
          -69.3833,
          -69.8531,
          -69.321,
          -69.2558,
          -70.0512,
          -70.0699,
          -69.5516,
          -69.3277,
          -69.4263,
          -69.4548,
          -69.3033,
          -69.3597,
          -69.3568,
          -69.2773,
          -69.5241,
          -69.3364,
          -70.0642,
          -69.5906,
          -66.9119,
          -70.0527,
          -69.2427,
          -69.3173,
          -69.2805,
          -69.4886,
          -69.2408,
          -69.2749,
          -69.3199,
          -69.3476,
          -69.6414,
          -69.329,
          -70.0835,
          -69.3193,
          -69.3028,
          -69.2969,
          -69.3365,
          -69.3299,
          -69.7351,
          -70.0741,
          -69.2912,
          -70.0553,
          -69.6516,
          -69.306,
          -70.0509,
          -69.3087,
          -70.0437,
          -69.3165,
          -69.9012,
          -69.5801,
          -69.6091,
          -69.8261,
          -69.3226,
          -69.2994,
          -70.061,
          -69.4301,
          -70.072,
          -69.6675,
          -69.5295,
          -69.4726,
          -69.415,
          -69.2981,
          -69.3169,
          -70.1007,
          -69.3287,
          -69.3275,
          -69.2953,
          -69.3391,
          -69.3856,
          -70.0958,
          -69.3137,
          -69.3289,
          -70.0524,
          -69.292,
          -69.3528,
          -69.4876,
          -70.0971,
          -69.3861,
          -70.2002,
          -70.0999,
          -67.0176,
          -67.03,
          -69.5807,
          -69.3042,
          -69.4677,
          -69.7519,
          -69.3253
         ],
         "yaxis": "y"
        }
       ],
       "layout": {
        "legend": {
         "title": {
          "text": "color"
         },
         "tracegroupgap": 0
        },
        "margin": {
         "t": 60
        },
        "template": {
         "data": {
          "bar": [
           {
            "error_x": {
             "color": "#2a3f5f"
            },
            "error_y": {
             "color": "#2a3f5f"
            },
            "marker": {
             "line": {
              "color": "white",
              "width": 0.5
             }
            },
            "type": "bar"
           }
          ],
          "barpolar": [
           {
            "marker": {
             "line": {
              "color": "white",
              "width": 0.5
             }
            },
            "type": "barpolar"
           }
          ],
          "carpet": [
           {
            "aaxis": {
             "endlinecolor": "#2a3f5f",
             "gridcolor": "#C8D4E3",
             "linecolor": "#C8D4E3",
             "minorgridcolor": "#C8D4E3",
             "startlinecolor": "#2a3f5f"
            },
            "baxis": {
             "endlinecolor": "#2a3f5f",
             "gridcolor": "#C8D4E3",
             "linecolor": "#C8D4E3",
             "minorgridcolor": "#C8D4E3",
             "startlinecolor": "#2a3f5f"
            },
            "type": "carpet"
           }
          ],
          "choropleth": [
           {
            "colorbar": {
             "outlinewidth": 0,
             "ticks": ""
            },
            "type": "choropleth"
           }
          ],
          "contour": [
           {
            "colorbar": {
             "outlinewidth": 0,
             "ticks": ""
            },
            "colorscale": [
             [
              0,
              "#0d0887"
             ],
             [
              0.1111111111111111,
              "#46039f"
             ],
             [
              0.2222222222222222,
              "#7201a8"
             ],
             [
              0.3333333333333333,
              "#9c179e"
             ],
             [
              0.4444444444444444,
              "#bd3786"
             ],
             [
              0.5555555555555556,
              "#d8576b"
             ],
             [
              0.6666666666666666,
              "#ed7953"
             ],
             [
              0.7777777777777778,
              "#fb9f3a"
             ],
             [
              0.8888888888888888,
              "#fdca26"
             ],
             [
              1,
              "#f0f921"
             ]
            ],
            "type": "contour"
           }
          ],
          "contourcarpet": [
           {
            "colorbar": {
             "outlinewidth": 0,
             "ticks": ""
            },
            "type": "contourcarpet"
           }
          ],
          "heatmap": [
           {
            "colorbar": {
             "outlinewidth": 0,
             "ticks": ""
            },
            "colorscale": [
             [
              0,
              "#0d0887"
             ],
             [
              0.1111111111111111,
              "#46039f"
             ],
             [
              0.2222222222222222,
              "#7201a8"
             ],
             [
              0.3333333333333333,
              "#9c179e"
             ],
             [
              0.4444444444444444,
              "#bd3786"
             ],
             [
              0.5555555555555556,
              "#d8576b"
             ],
             [
              0.6666666666666666,
              "#ed7953"
             ],
             [
              0.7777777777777778,
              "#fb9f3a"
             ],
             [
              0.8888888888888888,
              "#fdca26"
             ],
             [
              1,
              "#f0f921"
             ]
            ],
            "type": "heatmap"
           }
          ],
          "heatmapgl": [
           {
            "colorbar": {
             "outlinewidth": 0,
             "ticks": ""
            },
            "colorscale": [
             [
              0,
              "#0d0887"
             ],
             [
              0.1111111111111111,
              "#46039f"
             ],
             [
              0.2222222222222222,
              "#7201a8"
             ],
             [
              0.3333333333333333,
              "#9c179e"
             ],
             [
              0.4444444444444444,
              "#bd3786"
             ],
             [
              0.5555555555555556,
              "#d8576b"
             ],
             [
              0.6666666666666666,
              "#ed7953"
             ],
             [
              0.7777777777777778,
              "#fb9f3a"
             ],
             [
              0.8888888888888888,
              "#fdca26"
             ],
             [
              1,
              "#f0f921"
             ]
            ],
            "type": "heatmapgl"
           }
          ],
          "histogram": [
           {
            "marker": {
             "colorbar": {
              "outlinewidth": 0,
              "ticks": ""
             }
            },
            "type": "histogram"
           }
          ],
          "histogram2d": [
           {
            "colorbar": {
             "outlinewidth": 0,
             "ticks": ""
            },
            "colorscale": [
             [
              0,
              "#0d0887"
             ],
             [
              0.1111111111111111,
              "#46039f"
             ],
             [
              0.2222222222222222,
              "#7201a8"
             ],
             [
              0.3333333333333333,
              "#9c179e"
             ],
             [
              0.4444444444444444,
              "#bd3786"
             ],
             [
              0.5555555555555556,
              "#d8576b"
             ],
             [
              0.6666666666666666,
              "#ed7953"
             ],
             [
              0.7777777777777778,
              "#fb9f3a"
             ],
             [
              0.8888888888888888,
              "#fdca26"
             ],
             [
              1,
              "#f0f921"
             ]
            ],
            "type": "histogram2d"
           }
          ],
          "histogram2dcontour": [
           {
            "colorbar": {
             "outlinewidth": 0,
             "ticks": ""
            },
            "colorscale": [
             [
              0,
              "#0d0887"
             ],
             [
              0.1111111111111111,
              "#46039f"
             ],
             [
              0.2222222222222222,
              "#7201a8"
             ],
             [
              0.3333333333333333,
              "#9c179e"
             ],
             [
              0.4444444444444444,
              "#bd3786"
             ],
             [
              0.5555555555555556,
              "#d8576b"
             ],
             [
              0.6666666666666666,
              "#ed7953"
             ],
             [
              0.7777777777777778,
              "#fb9f3a"
             ],
             [
              0.8888888888888888,
              "#fdca26"
             ],
             [
              1,
              "#f0f921"
             ]
            ],
            "type": "histogram2dcontour"
           }
          ],
          "mesh3d": [
           {
            "colorbar": {
             "outlinewidth": 0,
             "ticks": ""
            },
            "type": "mesh3d"
           }
          ],
          "parcoords": [
           {
            "line": {
             "colorbar": {
              "outlinewidth": 0,
              "ticks": ""
             }
            },
            "type": "parcoords"
           }
          ],
          "pie": [
           {
            "automargin": true,
            "type": "pie"
           }
          ],
          "scatter": [
           {
            "marker": {
             "colorbar": {
              "outlinewidth": 0,
              "ticks": ""
             }
            },
            "type": "scatter"
           }
          ],
          "scatter3d": [
           {
            "line": {
             "colorbar": {
              "outlinewidth": 0,
              "ticks": ""
             }
            },
            "marker": {
             "colorbar": {
              "outlinewidth": 0,
              "ticks": ""
             }
            },
            "type": "scatter3d"
           }
          ],
          "scattercarpet": [
           {
            "marker": {
             "colorbar": {
              "outlinewidth": 0,
              "ticks": ""
             }
            },
            "type": "scattercarpet"
           }
          ],
          "scattergeo": [
           {
            "marker": {
             "colorbar": {
              "outlinewidth": 0,
              "ticks": ""
             }
            },
            "type": "scattergeo"
           }
          ],
          "scattergl": [
           {
            "marker": {
             "colorbar": {
              "outlinewidth": 0,
              "ticks": ""
             }
            },
            "type": "scattergl"
           }
          ],
          "scattermapbox": [
           {
            "marker": {
             "colorbar": {
              "outlinewidth": 0,
              "ticks": ""
             }
            },
            "type": "scattermapbox"
           }
          ],
          "scatterpolar": [
           {
            "marker": {
             "colorbar": {
              "outlinewidth": 0,
              "ticks": ""
             }
            },
            "type": "scatterpolar"
           }
          ],
          "scatterpolargl": [
           {
            "marker": {
             "colorbar": {
              "outlinewidth": 0,
              "ticks": ""
             }
            },
            "type": "scatterpolargl"
           }
          ],
          "scatterternary": [
           {
            "marker": {
             "colorbar": {
              "outlinewidth": 0,
              "ticks": ""
             }
            },
            "type": "scatterternary"
           }
          ],
          "surface": [
           {
            "colorbar": {
             "outlinewidth": 0,
             "ticks": ""
            },
            "colorscale": [
             [
              0,
              "#0d0887"
             ],
             [
              0.1111111111111111,
              "#46039f"
             ],
             [
              0.2222222222222222,
              "#7201a8"
             ],
             [
              0.3333333333333333,
              "#9c179e"
             ],
             [
              0.4444444444444444,
              "#bd3786"
             ],
             [
              0.5555555555555556,
              "#d8576b"
             ],
             [
              0.6666666666666666,
              "#ed7953"
             ],
             [
              0.7777777777777778,
              "#fb9f3a"
             ],
             [
              0.8888888888888888,
              "#fdca26"
             ],
             [
              1,
              "#f0f921"
             ]
            ],
            "type": "surface"
           }
          ],
          "table": [
           {
            "cells": {
             "fill": {
              "color": "#EBF0F8"
             },
             "line": {
              "color": "white"
             }
            },
            "header": {
             "fill": {
              "color": "#C8D4E3"
             },
             "line": {
              "color": "white"
             }
            },
            "type": "table"
           }
          ]
         },
         "layout": {
          "annotationdefaults": {
           "arrowcolor": "#2a3f5f",
           "arrowhead": 0,
           "arrowwidth": 1
          },
          "coloraxis": {
           "colorbar": {
            "outlinewidth": 0,
            "ticks": ""
           }
          },
          "colorscale": {
           "diverging": [
            [
             0,
             "#8e0152"
            ],
            [
             0.1,
             "#c51b7d"
            ],
            [
             0.2,
             "#de77ae"
            ],
            [
             0.3,
             "#f1b6da"
            ],
            [
             0.4,
             "#fde0ef"
            ],
            [
             0.5,
             "#f7f7f7"
            ],
            [
             0.6,
             "#e6f5d0"
            ],
            [
             0.7,
             "#b8e186"
            ],
            [
             0.8,
             "#7fbc41"
            ],
            [
             0.9,
             "#4d9221"
            ],
            [
             1,
             "#276419"
            ]
           ],
           "sequential": [
            [
             0,
             "#0d0887"
            ],
            [
             0.1111111111111111,
             "#46039f"
            ],
            [
             0.2222222222222222,
             "#7201a8"
            ],
            [
             0.3333333333333333,
             "#9c179e"
            ],
            [
             0.4444444444444444,
             "#bd3786"
            ],
            [
             0.5555555555555556,
             "#d8576b"
            ],
            [
             0.6666666666666666,
             "#ed7953"
            ],
            [
             0.7777777777777778,
             "#fb9f3a"
            ],
            [
             0.8888888888888888,
             "#fdca26"
            ],
            [
             1,
             "#f0f921"
            ]
           ],
           "sequentialminus": [
            [
             0,
             "#0d0887"
            ],
            [
             0.1111111111111111,
             "#46039f"
            ],
            [
             0.2222222222222222,
             "#7201a8"
            ],
            [
             0.3333333333333333,
             "#9c179e"
            ],
            [
             0.4444444444444444,
             "#bd3786"
            ],
            [
             0.5555555555555556,
             "#d8576b"
            ],
            [
             0.6666666666666666,
             "#ed7953"
            ],
            [
             0.7777777777777778,
             "#fb9f3a"
            ],
            [
             0.8888888888888888,
             "#fdca26"
            ],
            [
             1,
             "#f0f921"
            ]
           ]
          },
          "colorway": [
           "#636efa",
           "#EF553B",
           "#00cc96",
           "#ab63fa",
           "#FFA15A",
           "#19d3f3",
           "#FF6692",
           "#B6E880",
           "#FF97FF",
           "#FECB52"
          ],
          "font": {
           "color": "#2a3f5f"
          },
          "geo": {
           "bgcolor": "white",
           "lakecolor": "white",
           "landcolor": "white",
           "showlakes": true,
           "showland": true,
           "subunitcolor": "#C8D4E3"
          },
          "hoverlabel": {
           "align": "left"
          },
          "hovermode": "closest",
          "mapbox": {
           "style": "light"
          },
          "paper_bgcolor": "white",
          "plot_bgcolor": "white",
          "polar": {
           "angularaxis": {
            "gridcolor": "#EBF0F8",
            "linecolor": "#EBF0F8",
            "ticks": ""
           },
           "bgcolor": "white",
           "radialaxis": {
            "gridcolor": "#EBF0F8",
            "linecolor": "#EBF0F8",
            "ticks": ""
           }
          },
          "scene": {
           "xaxis": {
            "backgroundcolor": "white",
            "gridcolor": "#DFE8F3",
            "gridwidth": 2,
            "linecolor": "#EBF0F8",
            "showbackground": true,
            "ticks": "",
            "zerolinecolor": "#EBF0F8"
           },
           "yaxis": {
            "backgroundcolor": "white",
            "gridcolor": "#DFE8F3",
            "gridwidth": 2,
            "linecolor": "#EBF0F8",
            "showbackground": true,
            "ticks": "",
            "zerolinecolor": "#EBF0F8"
           },
           "zaxis": {
            "backgroundcolor": "white",
            "gridcolor": "#DFE8F3",
            "gridwidth": 2,
            "linecolor": "#EBF0F8",
            "showbackground": true,
            "ticks": "",
            "zerolinecolor": "#EBF0F8"
           }
          },
          "shapedefaults": {
           "line": {
            "color": "#2a3f5f"
           }
          },
          "ternary": {
           "aaxis": {
            "gridcolor": "#DFE8F3",
            "linecolor": "#A2B1C6",
            "ticks": ""
           },
           "baxis": {
            "gridcolor": "#DFE8F3",
            "linecolor": "#A2B1C6",
            "ticks": ""
           },
           "bgcolor": "white",
           "caxis": {
            "gridcolor": "#DFE8F3",
            "linecolor": "#A2B1C6",
            "ticks": ""
           }
          },
          "title": {
           "x": 0.05
          },
          "xaxis": {
           "automargin": true,
           "gridcolor": "#EBF0F8",
           "linecolor": "#EBF0F8",
           "ticks": "",
           "title": {
            "standoff": 15
           },
           "zerolinecolor": "#EBF0F8",
           "zerolinewidth": 2
          },
          "yaxis": {
           "automargin": true,
           "gridcolor": "#EBF0F8",
           "linecolor": "#EBF0F8",
           "ticks": "",
           "title": {
            "standoff": 15
           },
           "zerolinecolor": "#EBF0F8",
           "zerolinewidth": 2
          }
         }
        },
        "xaxis": {
         "anchor": "y",
         "domain": [
          0,
          1
         ],
         "title": {
          "text": "lat"
         }
        },
        "yaxis": {
         "anchor": "x",
         "domain": [
          0,
          1
         ],
         "title": {
          "text": "lon"
         }
        }
       }
      }
     },
     "metadata": {}
    }
   ],
   "source": [
    "# Color plot \n",
    "fig = px.scatter(\n",
    "    x = cc.lat,\n",
    "    y = cc.lon,\n",
    "    color = cc.Kmeans5_Pred.astype(\"str\"),\n",
    "    color_discrete_sequence = px.colors.qualitative.D3\n",
    ")\n",
    "fig.update_layout(template = \"plotly_white\", xaxis_title = \"lat\", yaxis_title = \"lon\")\n",
    "fig.show()"
   ]
  },
  {
   "cell_type": "code",
   "execution_count": 65,
   "metadata": {},
   "outputs": [],
   "source": [
    "def plotHist(df:pd.DataFrame, xvals:str):\n",
    "    fig = px.histogram(x = df[xvals], color = df[\"Kmeans5_Pred\"], color_discrete_sequence = px.colors.qualitative.D3)\n",
    "    fig.update_layout(template = \"plotly_white\", xaxis_title = xvals)\n",
    "    return fig"
   ]
  },
  {
   "cell_type": "code",
   "execution_count": 76,
   "metadata": {},
   "outputs": [
    {
     "output_type": "display_data",
     "data": {
      "application/vnd.plotly.v1+json": {
       "config": {
        "plotlyServerURL": "https://plotly.com"
       },
       "data": [
        {
         "alignmentgroup": "True",
         "bingroup": "x",
         "hovertemplate": "color=4<br>x=%{x}<br>count=%{y}<extra></extra>",
         "legendgroup": "4",
         "marker": {
          "color": "#1F77B4"
         },
         "name": "4",
         "offsetgroup": "4",
         "orientation": "v",
         "showlegend": true,
         "type": "histogram",
         "x": [
          null,
          -0.5127926898511711,
          -0.3674886488705092,
          null,
          -0.9439377017926891,
          -0.6129721415067045,
          -1.054209911759932,
          -2.336890365594487,
          null,
          -1.108159564659109,
          -3.270358152598612,
          -1.2396334877574366,
          -0.1666427336572953,
          -0.9770134774102441,
          -1.6357203879025264,
          -0.28299385502090413,
          -0.4498206722985532,
          -0.7202927400218744,
          -0.7676653160167728,
          -5.931324283469947,
          -1.4119491120125,
          -0.6780546243060842,
          -2.4074897741821495,
          -0.5630117728615155,
          null,
          -1.7866888182165097,
          -0.26795849888219514,
          null,
          -1.130584363001005,
          -1.8077966652841393,
          -2.443580177466658,
          -0.896072272554019,
          -1.1043135731141984,
          -1.9853596883968863,
          -1.2999530078823902,
          -0.4100861937855634,
          -0.4939393672531713,
          -0.045468669573140025,
          null,
          -0.3642074556391634,
          -0.9029340448502657,
          -0.01657234410692443,
          -0.9047548008466497,
          -1.602784032535872,
          null,
          -0.9286474015777636,
          -0.42574007769559763,
          -1.1787856784172903,
          null,
          -1.048697702049232,
          -0.9479989247708251,
          null,
          -1.6885735719132824,
          null,
          -1.737058808052787,
          null,
          null,
          -0.4326862186536712,
          -0.2455305544979689,
          -2.7025839647962107,
          -0.9521269881841042,
          null,
          -0.07112942949016818,
          -0.774833716243376,
          -1.6335138281406514,
          -0.8290380231411479,
          -0.07124994593269493,
          -0.323617202656336,
          -1.3285799870728559,
          -0.4425476294397538,
          null,
          null,
          null,
          -2.4254609550469897,
          null,
          -0.3840220199545418,
          -1.652230417057013,
          -1.2082070651066839,
          -1.6705708697620383,
          -0.6391693730570063,
          -2.3781698005635454,
          -0.30239666545785177,
          -0.5435630284386503,
          null,
          null,
          null,
          -0.9353811222529813,
          -0.489450676865524,
          null,
          -1.4437118064288177,
          -1.4514579960528042,
          -0.3885488226249263,
          -0.7350378495974049,
          null,
          -3.2688594851013644,
          null,
          -0.5843601255943723,
          null,
          null,
          null,
          null,
          -0.30438286116821145,
          null,
          -2.018457955765025,
          -0.39562964366617165,
          null,
          -0.5882955859261407,
          null,
          -0.34810726273346493,
          -0.569992157391484,
          -0.449391761199551,
          null,
          -0.8603312179500955,
          -2.2834935994947703,
          -0.06685435492240065,
          -0.7506814347569161,
          -1.6873869018853465,
          -2.212089334072833,
          -3.138808333337111,
          -0.9599570775479299,
          -1.3239884342263555,
          -1.1178435118072851,
          -0.682098694564012,
          -1.5557858740358983,
          null,
          -0.8063003517015791,
          -1.6485960752945379,
          -0.6092999088303458,
          null,
          -0.8027383787276474,
          null,
          -0.04533415841798838,
          -0.973193713986371,
          -0.5208912966325909,
          null,
          -0.15708984180998226,
          -1.5054980906787772,
          -2.6650517528999282,
          -0.5282251911336868,
          null,
          null,
          null,
          -0.5137167233215018,
          null,
          -1.1766867645899541,
          -0.39307407971496394,
          -2.182056234768969,
          -2.0845709425249335,
          -1.1340614253277015,
          -0.6024125360412413,
          -0.25190658184149123,
          -2.2182206636970223,
          -1.2120434974357774,
          -1.533618053324537,
          -1.7375119189897583,
          -0.23335105313411317,
          -2.1820787569362095,
          null,
          -1.4959667990860455,
          null,
          -0.5935810027429689,
          -0.009424798480808025,
          -1.4975119300098687,
          -0.1415916817612669,
          -1.6245851265009226,
          -2.170712371468064,
          null,
          -0.9641211098065586,
          -0.1391633072951743,
          -1.6886667298382085,
          null,
          null,
          -0.920929984782151,
          null,
          -1.4597998670742482,
          -1.1777482998001771,
          -0.27342743333086195,
          -0.18486799863885206,
          -2.567285035207249,
          -0.8769068761282635,
          -0.9445467304624805,
          -0.8066801543529643,
          null,
          -1.7459850641400574,
          -1.2015113394345434,
          -1.6363463579236115,
          -2.0010270645128325,
          -0.06540203752761296,
          null,
          -0.24699192918490226,
          -1.1488117070929191,
          -0.7296177372803017,
          -2.1174694894022688,
          -0.8498068009695816,
          -0.16270501455898206,
          -0.4712507330244048,
          -1.3711883504607723,
          null,
          -2.1735501087599425,
          -0.994085697593319,
          -2.919765304114332,
          -0.6355771183481889,
          null,
          null,
          -1.1471187300899874,
          -1.9830134569239335,
          -0.14341864406909385,
          null,
          -3.3431242730487467,
          -4.104533876710935,
          -2.5549673892738975,
          -0.36319162499721186,
          -1.3595081858909506,
          null,
          null,
          -2.591236272782328,
          -1.1203825955381397,
          null,
          null,
          null,
          -1.275322309588927,
          -0.5445428417184502,
          -0.8659706261791051,
          -0.9540711291435782,
          -1.2113727575680755,
          -0.5869128548042298,
          -1.8698777526581547,
          -0.8093484016787509,
          -0.7260828524193208,
          -1.2035037278217398,
          -0.39592382530592374,
          -0.32152946120087056,
          -1.6184981135256247,
          null,
          -0.5812193654182987,
          -0.1545098290777177,
          null,
          -4.705998141280707,
          -0.4238196485847736,
          -0.6211247147016582,
          -0.23596152848572022,
          null,
          -0.7796885229063598,
          -2.018624602722953,
          null,
          -0.9599705883844296,
          -0.2882451528997226,
          -2.2281536966761486,
          -2.735430771889204,
          -1.193703709328576,
          -0.9752306443358649,
          null,
          -1.8269653312875425,
          -0.5057180264814144,
          -0.32112381082555363,
          -2.4515262029106073,
          -0.3397166797873986,
          null,
          -1.224989785938633,
          -1.4089456361535015,
          null,
          -0.7010823365768328,
          -2.5509782541014436,
          -1.3189135135375014,
          -0.8595631744764157,
          null,
          -1.45596784570138,
          -0.4459899506419459,
          null,
          -1.819063769346161,
          -0.2117668725735187,
          -1.9795590481155683,
          null,
          null,
          -1.2330504525995725,
          -0.2679166913516364,
          -0.6239670486660731,
          -1.0448126923387326,
          -1.6781952058277978,
          -0.32394340972013824,
          -1.384670425682764,
          null,
          -0.33019281165361913,
          -1.8413881098600653,
          -0.9964401566476212,
          -0.3130656057461682,
          -0.13919682785077944,
          -0.9652600233184915,
          null,
          -0.1535742408458642,
          -0.7423921787703873,
          -2.2082980462256594,
          -1.8982876199801393,
          -0.4822888478092101,
          -0.02969314286621213,
          -0.3690309548913932,
          -0.70315576202635,
          null,
          -2.786117120132059,
          -2.2466864533434627,
          null,
          -1.7428627686664069,
          -2.4483073946064984,
          -0.281238880316707,
          -1.5910255127041208,
          -0.8748384523021345,
          -1.1639595204367448,
          -0.6239411874682425,
          null,
          -2.36073518359546,
          -1.1275273348655557,
          -1.0093503959446248,
          -0.6729485788372932,
          null,
          null,
          null,
          -3.964221869294508,
          -0.2010796798696864,
          -0.8440433177085973,
          null,
          -0.9766311818613337,
          null,
          -0.8088527925724355,
          -1.7680179756564778,
          null,
          null,
          -0.751767617841034,
          null,
          -0.9369430496086111,
          -0.4780328495120509,
          -0.706455875517342,
          -0.9520930666379193,
          -1.9750684375486558,
          null,
          -2.4279801801044676,
          -1.7325851204747102,
          -0.08092238458249307,
          -0.11470232940298469,
          null,
          -1.1268249409261015,
          -0.3423778730116462,
          -0.8061662087584894,
          -0.6029311814389066,
          -0.10783173589977457,
          -2.54170626352629,
          -0.23316891985481783
         ],
         "xaxis": "x",
         "yaxis": "y"
        },
        {
         "alignmentgroup": "True",
         "bingroup": "x",
         "hovertemplate": "color=2<br>x=%{x}<br>count=%{y}<extra></extra>",
         "legendgroup": "2",
         "marker": {
          "color": "#FF7F0E"
         },
         "name": "2",
         "offsetgroup": "2",
         "orientation": "v",
         "showlegend": true,
         "type": "histogram",
         "x": [
          -0.48823636058470643,
          -1.8120286640352852,
          -0.3343492330959636,
          -0.9178920483148666,
          -2.2305763448662534,
          -0.22346049728389994,
          -1.2459180575199866,
          -1.1141378841681908,
          -1.6226010074531958,
          null,
          null,
          null,
          -0.2747983620247575,
          -0.07151434839119676,
          -0.42582581452625134,
          -0.1903063735909483,
          -0.6496001793732388,
          -2.1714600604911647,
          -1.301465480501753,
          -1.5071248883107249,
          -0.9949663206793949,
          -0.13694626476961508,
          null,
          -0.2657726028396666,
          -1.1690567647633494,
          -0.005188475820221357,
          -0.639533275039025,
          -0.8536922538457927,
          -0.3074574266601481,
          null,
          -1.5333551604824098,
          -1.6915025805209782,
          null,
          -1.0442926016750058,
          -0.2658543731943942,
          -0.6127861180013183,
          -0.5732056673484611,
          -1.1324185857606122,
          -0.6706420235361333,
          -0.31385780430086146,
          -1.2792259386627123,
          -1.1855911174657938,
          -0.5744157249693569,
          null,
          null,
          -0.24458493351042201,
          -0.9637623021161563,
          null,
          null,
          -1.525502178539078,
          null,
          -0.2684863838779707,
          -1.102080075397651,
          null,
          -0.42484240415066515,
          -0.6781356573703712,
          null,
          -0.40372444270066044,
          null,
          -0.8672320539828027,
          -1.5306262157426664,
          -0.9144718179513539,
          -2.1134742754111904,
          -0.4111085274658541,
          -2.3221974676729,
          -0.501698989906506,
          -0.8630788707889927,
          -2.0732642939857198,
          -1.9062803427443251,
          null,
          -1.515375324238762,
          -0.03787753603711429,
          -1.017022609802218,
          -0.516394811786384,
          -0.6669747362614488,
          null,
          -0.34123141371160576,
          null,
          -2.3807505278722343,
          -0.621847267043119,
          -0.9952121660636654,
          -1.430871228655388,
          -0.7016554279123492,
          -2.2315729083414637,
          -1.295032795577493,
          -0.37092446424608183,
          -2.1005458758067017,
          null,
          -0.21352267354982937,
          null,
          null,
          null,
          -0.5174338076261865,
          -0.4713715812160659,
          null,
          -1.0229975193291168,
          -0.33512617580445137,
          -1.3046462887000174,
          -0.2762793197018151,
          -1.5777978571028464,
          -0.08848190012622191,
          null,
          -0.19510278829189973,
          null,
          null,
          null,
          -1.1255767089824298,
          -0.4685585643911829,
          -0.08623348566565023,
          null,
          null,
          -2.651597955029068,
          -1.8901089936844493,
          null,
          -0.37195730237190117,
          -2.5025788484827,
          null,
          null,
          -0.985449600175702,
          null,
          -0.09768304251520254,
          null,
          -0.9609952038808547,
          -1.52541036977466,
          -0.027281748764663133,
          null,
          -0.6820739845107375,
          null,
          -0.6495815937959838,
          -1.184796077187209,
          null,
          null,
          -2.2799688988115476,
          null,
          -0.666139025590844,
          -0.5085587400599935,
          -4.437518549553145,
          -2.901550619169392,
          null,
          -1.38776610607489,
          null,
          -2.534662609783434,
          -0.8524733870660287,
          null,
          -0.05680540524821863,
          null,
          -0.7489889400577757,
          -0.6260524480869867,
          null,
          -0.08465382322092446,
          -0.3718405282875529,
          -0.21050762117882343,
          -1.5249838759586845,
          -0.7487864568409263,
          -1.4321145685414696,
          -0.32667016057424325,
          -0.8983438227111746,
          null,
          -0.8901577712634661,
          -0.09963474007362401,
          -0.6053840528416894,
          -0.17526221189213173,
          -0.05656506218263125,
          -0.265954976594465,
          -0.2169633910397168,
          -1.3652551828252664,
          -0.9071225219455002,
          -1.9229778533762103,
          -0.9766239702894826,
          -0.36522218634433246,
          -0.30444091518286326,
          -1.4586432964771108,
          null,
          -1.48941674512297,
          -1.160230652885938,
          -0.9912799442759233,
          -0.3266750403874142,
          -2.1801201355740876,
          -1.0256672006919156,
          -1.1418874679969817,
          null,
          -1.0205725356950255,
          null,
          -1.0801277759105508,
          -0.02390344308063541,
          -0.8634296650897366,
          null,
          null,
          -0.24413869467047838,
          -0.14378639216561287,
          -0.15313909097179165,
          -0.3100033621007612,
          null,
          -1.1809633565437208,
          -0.6626858757402673,
          -0.4081827950841622,
          null,
          -2.3322295285170096,
          -0.06671903490050969,
          -0.5404617487864019,
          -1.4441786303000257,
          -0.7027368132432246,
          -1.025754261452519,
          -0.8448881549992546,
          null,
          -0.6150877526462145,
          null,
          null,
          null,
          -0.4292474962969635,
          -0.8315978195158282,
          -0.37215712056767725,
          -0.3782444495944765,
          -0.4881314056909338,
          -0.8584958118341312,
          -0.47925830429834804,
          -0.7351498282832202,
          -1.1858098567516966,
          null,
          -5.90951267548357,
          null,
          -1.176210079114519,
          null,
          -1.4060415643015716,
          -0.686268210968543,
          null,
          -4.9413087505209585,
          -1.431770683863522,
          -0.4990955343533724,
          -0.8960540903579252,
          null,
          -2.33373406611205,
          null,
          -0.24666957277995147,
          -1.0007651762908405,
          -6.3929348655150005,
          -0.3960239844518293,
          -2.170264972691594,
          -0.5883459562445311,
          null,
          -1.737916752249349,
          -1.2393003781003264,
          -3.923168530111686,
          -0.3139363716293267,
          -0.026782540349662116,
          -1.6447947741668556,
          -0.9451124094308982,
          -0.790525965877403,
          -5.630615619031528,
          -2.6385595347822153,
          -0.8933830773252653,
          null,
          -3.7654682992707085,
          -2.1898716080023646,
          -3.6683119538046567,
          -1.7641284814811335,
          -6.104163651717995,
          -6.082056504456012,
          -2.3064968014572647,
          -5.673658608982202,
          -1.8645990178460767,
          null,
          -6.895845298014666,
          -3.556814922937033,
          -0.3771957041845366,
          -0.31543106631630413,
          null,
          null,
          null,
          -3.2781531096713534,
          -0.95868738615955,
          -1.2630003355300596,
          -3.5976621709938037,
          -1.2747149278027985,
          -0.3095142795701694,
          -0.5443974664779654,
          -0.5375714107411583,
          -1.961356959391618,
          -6.1959371835503,
          -2.839277814112044,
          -0.8900560995580431,
          -0.6557750896240697,
          -0.4784159089947932,
          -6.425979535384974,
          -0.8186929563753345,
          -2.278414948748292,
          null,
          -4.715348651872977,
          -3.9884402848243923,
          -0.9005797477319828,
          -0.9202776251644161,
          null,
          -2.2759684582887014,
          -2.2385067557651386,
          -1.8761563124209255,
          -2.793535353137556,
          -0.6194940726423792,
          -1.9649391713307411,
          -1.0960879611852916,
          -1.1290060577180405,
          -0.6572509777426777,
          -1.2782142411827926,
          -6.099994352332296,
          -1.1855343725333676,
          -0.5490429899600513,
          -0.5725452025606053,
          -5.060021850188452,
          -2.8052752471433817,
          -0.5864316479960854,
          -0.4043659329426076,
          -0.27241279558314413,
          -3.9992299655005024,
          -2.9565091859050914,
          -0.21442284090592822,
          -3.403291458968981,
          -0.7110588455791855,
          -2.3423821079792493,
          -0.2892220735516652,
          null,
          -0.503758238819595,
          -0.8045857582487255,
          -0.9923182750390762,
          -0.6788143771431969,
          -0.6947360121942977,
          null,
          -1.3461299309835797,
          -3.8323988591146176,
          -1.8249321285550042,
          -1.4741662795569588,
          -0.7417921702382976,
          -0.6117932042279715,
          -2.135077403706966,
          -0.7484383434996865,
          -7.158269618258122,
          -2.586740252543021,
          null,
          -3.274661869395465
         ],
         "xaxis": "x",
         "yaxis": "y"
        },
        {
         "alignmentgroup": "True",
         "bingroup": "x",
         "hovertemplate": "color=0<br>x=%{x}<br>count=%{y}<extra></extra>",
         "legendgroup": "0",
         "marker": {
          "color": "#2CA02C"
         },
         "name": "0",
         "offsetgroup": "0",
         "orientation": "v",
         "showlegend": true,
         "type": "histogram",
         "x": [
          -5.53999198747,
          -0.8114881482054833,
          -0.43367810335486306,
          -2.2603823890663333,
          -0.24470630271772398,
          -0.32406863057926194,
          null,
          -3.0238495605604303,
          null,
          -1.7355777384149178,
          null,
          -0.10747942508466068,
          null,
          -1.8101580181837464,
          null,
          -0.2281839906174548,
          -0.41543792473808105,
          -4.827859024622853,
          null,
          -1.3484394198486347,
          null,
          null,
          null,
          null,
          -2.058183996709869,
          -0.2282897941024938,
          null,
          null,
          null,
          null,
          null,
          null,
          -1.200521483534232,
          null,
          null,
          -0.4365608026584587,
          -1.1949340771408352,
          -1.832267779142974,
          -1.3664650545569137,
          null,
          null,
          -3.3514230329414496,
          null,
          -2.019363422488535,
          null,
          null,
          -0.14003041959218376,
          -1.0212605159317316,
          -0.1968635644046673,
          -1.6087603881425367,
          null,
          null,
          -0.3128172417662192,
          null,
          null,
          -3.3285058788042137,
          -3.8322940126381813,
          -0.2220891321857965,
          null,
          -2.6366059881440087,
          -0.03751142841965856,
          null,
          -0.8691434460544054,
          -1.5804698279864748,
          -0.29666835685622117,
          null,
          -1.3333583227507473,
          null,
          -0.5969928442408501,
          -0.09595168515058553,
          -0.16732064991669748,
          null,
          -0.0694422050854544,
          -1.5840367586133015,
          null,
          null,
          -0.6477504246308889,
          null,
          -1.2836219570942589,
          -0.13514485357340605,
          -1.0804618908986798,
          -6.876312184553825,
          -0.9769426727536734,
          -1.8982415434591111,
          null,
          null,
          -6.144184192598747,
          -1.5540614858665365,
          null,
          -1.1766104277736198,
          null,
          null,
          null,
          -2.82185806240389,
          -0.9578335217719174,
          null,
          null,
          null,
          null,
          -0.6197552074075051,
          -2.029677463587083,
          -0.26744147424537396,
          -0.9899881969944272,
          -2.1390690644291848,
          -0.5640395790822991,
          -0.927858902089346,
          -1.4530787938129333,
          null,
          -1.8974102226116758,
          null
         ],
         "xaxis": "x",
         "yaxis": "y"
        },
        {
         "alignmentgroup": "True",
         "bingroup": "x",
         "hovertemplate": "color=1<br>x=%{x}<br>count=%{y}<extra></extra>",
         "legendgroup": "1",
         "marker": {
          "color": "#D62728"
         },
         "name": "1",
         "offsetgroup": "1",
         "orientation": "v",
         "showlegend": true,
         "type": "histogram",
         "x": [
          null,
          null,
          null,
          -5.000347808200073,
          -0.2829376253058994,
          null,
          -1.9786392190865403,
          -0.08915688006849519,
          null,
          -0.22510003729754022,
          -1.6786574601835147,
          null,
          null,
          -0.22979251214993307,
          null,
          -1.7241518142910233,
          null,
          null,
          null,
          -0.10902090427848227,
          -0.3807020019798023,
          -1.2235710769455361,
          -3.8349636187718668,
          -0.1249185849760926,
          -0.3771649090100597,
          -0.5663515167147791,
          null,
          -0.5027990060708363,
          null,
          null,
          -2.9199265221615702,
          -0.13474084451545232,
          -0.7910649541954945,
          null,
          -0.6938184878731292,
          null,
          -1.0109119102719262,
          -1.1404444282841935,
          -0.22280712907474434,
          -0.2375040552108912,
          null,
          -2.112648016035295,
          -0.4185658623755195,
          null,
          null,
          -2.2287382556795787,
          null,
          -1.697109629088212,
          -1.3578182133310566,
          null,
          -0.046006582481798175,
          null,
          null,
          -1.183746530010505,
          -2.030530739137488,
          -1.6288207034979973,
          null,
          null,
          null,
          null,
          null,
          -1.1173030609165362,
          -1.7909035303629826,
          -0.5732168530611523,
          -5.714095645828352,
          -5.870626852136636,
          -0.8060564042541132,
          -0.807382025559674,
          null,
          null,
          null,
          -0.6198103375043724,
          null,
          -1.6290922598930082,
          null,
          -0.7643347578670924,
          -1.9695347163931887,
          -3.5309615906083045,
          null,
          -1.2486563675127946,
          null
         ],
         "xaxis": "x",
         "yaxis": "y"
        },
        {
         "alignmentgroup": "True",
         "bingroup": "x",
         "hovertemplate": "color=3<br>x=%{x}<br>count=%{y}<extra></extra>",
         "legendgroup": "3",
         "marker": {
          "color": "#9467BD"
         },
         "name": "3",
         "offsetgroup": "3",
         "orientation": "v",
         "showlegend": true,
         "type": "histogram",
         "x": [
          -1.1749506332719732,
          null,
          -1.5074890126731084,
          -1.5819770497539623,
          -1.6215872284538042,
          -1.90614082704225,
          -1.2060946813805418,
          -1.3724000720268668,
          -0.9682200759686381,
          null,
          -1.6107901446234756,
          null,
          null,
          -0.8268370341280666,
          -1.1110649471280056,
          -0.3989219781069997,
          -1.02891687356611,
          -0.8442477872698959,
          null,
          null,
          null,
          -1.4436792184409843,
          -1.2823858742958438,
          -1.2036070104344354,
          -4.946470737652997,
          -1.3792367827707674,
          -0.6958212705114155,
          -0.3236077444911609,
          -0.4601694031989906,
          -0.9047593100177133,
          -0.4557286984234343,
          -2.2871158285932873,
          -0.9899241095402009,
          null,
          null,
          null,
          -0.4548827709887708,
          -1.0723058346839363,
          -1.2412976293781728,
          -0.4339835169277122,
          -0.5592463068284723,
          -0.5870373274901849,
          -1.7690512116641535,
          null,
          null,
          -0.6334499825243877,
          -0.5642644091683733,
          null,
          -0.28745961544393617,
          null,
          -1.8550984403598951,
          -0.29608441089918425,
          null,
          -0.27189368418718485,
          -1.1793227811590246,
          null,
          -0.666558283829919,
          -0.1877622823646255,
          -1.4697089043584277,
          -0.02949354774669418,
          -0.8057083572564268,
          -1.9049508239251705,
          -0.2963852499583854,
          null,
          null,
          -0.23665207733532662,
          -0.47790415457935387,
          -2.6628858265613333,
          null,
          -1.2694793507421631,
          -0.7689144507870778,
          -1.1886751319358144,
          null,
          null,
          -0.30288847272530106,
          -0.4184044492334428,
          -1.8866497130052997,
          null,
          -1.222796714201977,
          -1.5774662641924504,
          -0.447249609575448,
          -1.7002151623336637,
          -1.6724298826187707,
          -0.8652433248903209,
          null,
          null,
          -1.0716349429048317,
          -0.33720175096668514,
          -0.05271675438212432,
          -1.0780886420937414,
          -0.07524206598068144,
          null,
          -3.7311161274367537,
          null,
          -2.1682033740992295,
          -0.05604507936375755,
          -0.06836096917767637,
          -1.54128647801516,
          -0.40046684442136543,
          -0.417624032097743,
          -0.631130438856271,
          -0.07569463537405033,
          null,
          -0.6427343507249595,
          -0.5149331290781224,
          -0.6276867433498146,
          -0.8869898665391325,
          null,
          -0.572593573452544,
          -1.6524661326435244,
          null,
          -1.000712940420795,
          -2.0345057547706835,
          -1.4863087687575955,
          -0.8885834356396264,
          -1.605070527219762,
          -0.4249958420047407,
          -2.500855498252281,
          -0.41262988792576494,
          -0.08566337545110794,
          null,
          null,
          -3.081642810422871,
          -3.183387241247407,
          -0.6628019420022062,
          -1.0960490688688194
         ],
         "xaxis": "x",
         "yaxis": "y"
        }
       ],
       "layout": {
        "barmode": "relative",
        "legend": {
         "title": {
          "text": "color"
         },
         "tracegroupgap": 0
        },
        "margin": {
         "t": 60
        },
        "template": {
         "data": {
          "bar": [
           {
            "error_x": {
             "color": "#2a3f5f"
            },
            "error_y": {
             "color": "#2a3f5f"
            },
            "marker": {
             "line": {
              "color": "white",
              "width": 0.5
             }
            },
            "type": "bar"
           }
          ],
          "barpolar": [
           {
            "marker": {
             "line": {
              "color": "white",
              "width": 0.5
             }
            },
            "type": "barpolar"
           }
          ],
          "carpet": [
           {
            "aaxis": {
             "endlinecolor": "#2a3f5f",
             "gridcolor": "#C8D4E3",
             "linecolor": "#C8D4E3",
             "minorgridcolor": "#C8D4E3",
             "startlinecolor": "#2a3f5f"
            },
            "baxis": {
             "endlinecolor": "#2a3f5f",
             "gridcolor": "#C8D4E3",
             "linecolor": "#C8D4E3",
             "minorgridcolor": "#C8D4E3",
             "startlinecolor": "#2a3f5f"
            },
            "type": "carpet"
           }
          ],
          "choropleth": [
           {
            "colorbar": {
             "outlinewidth": 0,
             "ticks": ""
            },
            "type": "choropleth"
           }
          ],
          "contour": [
           {
            "colorbar": {
             "outlinewidth": 0,
             "ticks": ""
            },
            "colorscale": [
             [
              0,
              "#0d0887"
             ],
             [
              0.1111111111111111,
              "#46039f"
             ],
             [
              0.2222222222222222,
              "#7201a8"
             ],
             [
              0.3333333333333333,
              "#9c179e"
             ],
             [
              0.4444444444444444,
              "#bd3786"
             ],
             [
              0.5555555555555556,
              "#d8576b"
             ],
             [
              0.6666666666666666,
              "#ed7953"
             ],
             [
              0.7777777777777778,
              "#fb9f3a"
             ],
             [
              0.8888888888888888,
              "#fdca26"
             ],
             [
              1,
              "#f0f921"
             ]
            ],
            "type": "contour"
           }
          ],
          "contourcarpet": [
           {
            "colorbar": {
             "outlinewidth": 0,
             "ticks": ""
            },
            "type": "contourcarpet"
           }
          ],
          "heatmap": [
           {
            "colorbar": {
             "outlinewidth": 0,
             "ticks": ""
            },
            "colorscale": [
             [
              0,
              "#0d0887"
             ],
             [
              0.1111111111111111,
              "#46039f"
             ],
             [
              0.2222222222222222,
              "#7201a8"
             ],
             [
              0.3333333333333333,
              "#9c179e"
             ],
             [
              0.4444444444444444,
              "#bd3786"
             ],
             [
              0.5555555555555556,
              "#d8576b"
             ],
             [
              0.6666666666666666,
              "#ed7953"
             ],
             [
              0.7777777777777778,
              "#fb9f3a"
             ],
             [
              0.8888888888888888,
              "#fdca26"
             ],
             [
              1,
              "#f0f921"
             ]
            ],
            "type": "heatmap"
           }
          ],
          "heatmapgl": [
           {
            "colorbar": {
             "outlinewidth": 0,
             "ticks": ""
            },
            "colorscale": [
             [
              0,
              "#0d0887"
             ],
             [
              0.1111111111111111,
              "#46039f"
             ],
             [
              0.2222222222222222,
              "#7201a8"
             ],
             [
              0.3333333333333333,
              "#9c179e"
             ],
             [
              0.4444444444444444,
              "#bd3786"
             ],
             [
              0.5555555555555556,
              "#d8576b"
             ],
             [
              0.6666666666666666,
              "#ed7953"
             ],
             [
              0.7777777777777778,
              "#fb9f3a"
             ],
             [
              0.8888888888888888,
              "#fdca26"
             ],
             [
              1,
              "#f0f921"
             ]
            ],
            "type": "heatmapgl"
           }
          ],
          "histogram": [
           {
            "marker": {
             "colorbar": {
              "outlinewidth": 0,
              "ticks": ""
             }
            },
            "type": "histogram"
           }
          ],
          "histogram2d": [
           {
            "colorbar": {
             "outlinewidth": 0,
             "ticks": ""
            },
            "colorscale": [
             [
              0,
              "#0d0887"
             ],
             [
              0.1111111111111111,
              "#46039f"
             ],
             [
              0.2222222222222222,
              "#7201a8"
             ],
             [
              0.3333333333333333,
              "#9c179e"
             ],
             [
              0.4444444444444444,
              "#bd3786"
             ],
             [
              0.5555555555555556,
              "#d8576b"
             ],
             [
              0.6666666666666666,
              "#ed7953"
             ],
             [
              0.7777777777777778,
              "#fb9f3a"
             ],
             [
              0.8888888888888888,
              "#fdca26"
             ],
             [
              1,
              "#f0f921"
             ]
            ],
            "type": "histogram2d"
           }
          ],
          "histogram2dcontour": [
           {
            "colorbar": {
             "outlinewidth": 0,
             "ticks": ""
            },
            "colorscale": [
             [
              0,
              "#0d0887"
             ],
             [
              0.1111111111111111,
              "#46039f"
             ],
             [
              0.2222222222222222,
              "#7201a8"
             ],
             [
              0.3333333333333333,
              "#9c179e"
             ],
             [
              0.4444444444444444,
              "#bd3786"
             ],
             [
              0.5555555555555556,
              "#d8576b"
             ],
             [
              0.6666666666666666,
              "#ed7953"
             ],
             [
              0.7777777777777778,
              "#fb9f3a"
             ],
             [
              0.8888888888888888,
              "#fdca26"
             ],
             [
              1,
              "#f0f921"
             ]
            ],
            "type": "histogram2dcontour"
           }
          ],
          "mesh3d": [
           {
            "colorbar": {
             "outlinewidth": 0,
             "ticks": ""
            },
            "type": "mesh3d"
           }
          ],
          "parcoords": [
           {
            "line": {
             "colorbar": {
              "outlinewidth": 0,
              "ticks": ""
             }
            },
            "type": "parcoords"
           }
          ],
          "pie": [
           {
            "automargin": true,
            "type": "pie"
           }
          ],
          "scatter": [
           {
            "marker": {
             "colorbar": {
              "outlinewidth": 0,
              "ticks": ""
             }
            },
            "type": "scatter"
           }
          ],
          "scatter3d": [
           {
            "line": {
             "colorbar": {
              "outlinewidth": 0,
              "ticks": ""
             }
            },
            "marker": {
             "colorbar": {
              "outlinewidth": 0,
              "ticks": ""
             }
            },
            "type": "scatter3d"
           }
          ],
          "scattercarpet": [
           {
            "marker": {
             "colorbar": {
              "outlinewidth": 0,
              "ticks": ""
             }
            },
            "type": "scattercarpet"
           }
          ],
          "scattergeo": [
           {
            "marker": {
             "colorbar": {
              "outlinewidth": 0,
              "ticks": ""
             }
            },
            "type": "scattergeo"
           }
          ],
          "scattergl": [
           {
            "marker": {
             "colorbar": {
              "outlinewidth": 0,
              "ticks": ""
             }
            },
            "type": "scattergl"
           }
          ],
          "scattermapbox": [
           {
            "marker": {
             "colorbar": {
              "outlinewidth": 0,
              "ticks": ""
             }
            },
            "type": "scattermapbox"
           }
          ],
          "scatterpolar": [
           {
            "marker": {
             "colorbar": {
              "outlinewidth": 0,
              "ticks": ""
             }
            },
            "type": "scatterpolar"
           }
          ],
          "scatterpolargl": [
           {
            "marker": {
             "colorbar": {
              "outlinewidth": 0,
              "ticks": ""
             }
            },
            "type": "scatterpolargl"
           }
          ],
          "scatterternary": [
           {
            "marker": {
             "colorbar": {
              "outlinewidth": 0,
              "ticks": ""
             }
            },
            "type": "scatterternary"
           }
          ],
          "surface": [
           {
            "colorbar": {
             "outlinewidth": 0,
             "ticks": ""
            },
            "colorscale": [
             [
              0,
              "#0d0887"
             ],
             [
              0.1111111111111111,
              "#46039f"
             ],
             [
              0.2222222222222222,
              "#7201a8"
             ],
             [
              0.3333333333333333,
              "#9c179e"
             ],
             [
              0.4444444444444444,
              "#bd3786"
             ],
             [
              0.5555555555555556,
              "#d8576b"
             ],
             [
              0.6666666666666666,
              "#ed7953"
             ],
             [
              0.7777777777777778,
              "#fb9f3a"
             ],
             [
              0.8888888888888888,
              "#fdca26"
             ],
             [
              1,
              "#f0f921"
             ]
            ],
            "type": "surface"
           }
          ],
          "table": [
           {
            "cells": {
             "fill": {
              "color": "#EBF0F8"
             },
             "line": {
              "color": "white"
             }
            },
            "header": {
             "fill": {
              "color": "#C8D4E3"
             },
             "line": {
              "color": "white"
             }
            },
            "type": "table"
           }
          ]
         },
         "layout": {
          "annotationdefaults": {
           "arrowcolor": "#2a3f5f",
           "arrowhead": 0,
           "arrowwidth": 1
          },
          "coloraxis": {
           "colorbar": {
            "outlinewidth": 0,
            "ticks": ""
           }
          },
          "colorscale": {
           "diverging": [
            [
             0,
             "#8e0152"
            ],
            [
             0.1,
             "#c51b7d"
            ],
            [
             0.2,
             "#de77ae"
            ],
            [
             0.3,
             "#f1b6da"
            ],
            [
             0.4,
             "#fde0ef"
            ],
            [
             0.5,
             "#f7f7f7"
            ],
            [
             0.6,
             "#e6f5d0"
            ],
            [
             0.7,
             "#b8e186"
            ],
            [
             0.8,
             "#7fbc41"
            ],
            [
             0.9,
             "#4d9221"
            ],
            [
             1,
             "#276419"
            ]
           ],
           "sequential": [
            [
             0,
             "#0d0887"
            ],
            [
             0.1111111111111111,
             "#46039f"
            ],
            [
             0.2222222222222222,
             "#7201a8"
            ],
            [
             0.3333333333333333,
             "#9c179e"
            ],
            [
             0.4444444444444444,
             "#bd3786"
            ],
            [
             0.5555555555555556,
             "#d8576b"
            ],
            [
             0.6666666666666666,
             "#ed7953"
            ],
            [
             0.7777777777777778,
             "#fb9f3a"
            ],
            [
             0.8888888888888888,
             "#fdca26"
            ],
            [
             1,
             "#f0f921"
            ]
           ],
           "sequentialminus": [
            [
             0,
             "#0d0887"
            ],
            [
             0.1111111111111111,
             "#46039f"
            ],
            [
             0.2222222222222222,
             "#7201a8"
            ],
            [
             0.3333333333333333,
             "#9c179e"
            ],
            [
             0.4444444444444444,
             "#bd3786"
            ],
            [
             0.5555555555555556,
             "#d8576b"
            ],
            [
             0.6666666666666666,
             "#ed7953"
            ],
            [
             0.7777777777777778,
             "#fb9f3a"
            ],
            [
             0.8888888888888888,
             "#fdca26"
            ],
            [
             1,
             "#f0f921"
            ]
           ]
          },
          "colorway": [
           "#636efa",
           "#EF553B",
           "#00cc96",
           "#ab63fa",
           "#FFA15A",
           "#19d3f3",
           "#FF6692",
           "#B6E880",
           "#FF97FF",
           "#FECB52"
          ],
          "font": {
           "color": "#2a3f5f"
          },
          "geo": {
           "bgcolor": "white",
           "lakecolor": "white",
           "landcolor": "white",
           "showlakes": true,
           "showland": true,
           "subunitcolor": "#C8D4E3"
          },
          "hoverlabel": {
           "align": "left"
          },
          "hovermode": "closest",
          "mapbox": {
           "style": "light"
          },
          "paper_bgcolor": "white",
          "plot_bgcolor": "white",
          "polar": {
           "angularaxis": {
            "gridcolor": "#EBF0F8",
            "linecolor": "#EBF0F8",
            "ticks": ""
           },
           "bgcolor": "white",
           "radialaxis": {
            "gridcolor": "#EBF0F8",
            "linecolor": "#EBF0F8",
            "ticks": ""
           }
          },
          "scene": {
           "xaxis": {
            "backgroundcolor": "white",
            "gridcolor": "#DFE8F3",
            "gridwidth": 2,
            "linecolor": "#EBF0F8",
            "showbackground": true,
            "ticks": "",
            "zerolinecolor": "#EBF0F8"
           },
           "yaxis": {
            "backgroundcolor": "white",
            "gridcolor": "#DFE8F3",
            "gridwidth": 2,
            "linecolor": "#EBF0F8",
            "showbackground": true,
            "ticks": "",
            "zerolinecolor": "#EBF0F8"
           },
           "zaxis": {
            "backgroundcolor": "white",
            "gridcolor": "#DFE8F3",
            "gridwidth": 2,
            "linecolor": "#EBF0F8",
            "showbackground": true,
            "ticks": "",
            "zerolinecolor": "#EBF0F8"
           }
          },
          "shapedefaults": {
           "line": {
            "color": "#2a3f5f"
           }
          },
          "ternary": {
           "aaxis": {
            "gridcolor": "#DFE8F3",
            "linecolor": "#A2B1C6",
            "ticks": ""
           },
           "baxis": {
            "gridcolor": "#DFE8F3",
            "linecolor": "#A2B1C6",
            "ticks": ""
           },
           "bgcolor": "white",
           "caxis": {
            "gridcolor": "#DFE8F3",
            "linecolor": "#A2B1C6",
            "ticks": ""
           }
          },
          "title": {
           "x": 0.05
          },
          "xaxis": {
           "automargin": true,
           "gridcolor": "#EBF0F8",
           "linecolor": "#EBF0F8",
           "ticks": "",
           "title": {
            "standoff": 15
           },
           "zerolinecolor": "#EBF0F8",
           "zerolinewidth": 2
          },
          "yaxis": {
           "automargin": true,
           "gridcolor": "#EBF0F8",
           "linecolor": "#EBF0F8",
           "ticks": "",
           "title": {
            "standoff": 15
           },
           "zerolinecolor": "#EBF0F8",
           "zerolinewidth": 2
          }
         }
        },
        "xaxis": {
         "anchor": "y",
         "domain": [
          0,
          1
         ],
         "title": {
          "text": "preconV"
         }
        },
        "yaxis": {
         "anchor": "x",
         "domain": [
          0,
          1
         ],
         "title": {
          "text": "count"
         }
        }
       }
      }
     },
     "metadata": {}
    }
   ],
   "source": [
    "plotHist(df = cc, xvals = \"preconV\")"
   ]
  },
  {
   "cell_type": "code",
   "execution_count": null,
   "metadata": {},
   "outputs": [],
   "source": [
    "\n"
   ]
  }
 ]
}